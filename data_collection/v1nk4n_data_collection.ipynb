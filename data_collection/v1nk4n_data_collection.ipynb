{
 "cells": [
  {
   "cell_type": "code",
   "execution_count": 1,
   "id": "af18a444",
   "metadata": {},
   "outputs": [],
   "source": [
    "from selenium import webdriver\n",
    "from selenium.webdriver.common.by import By\n",
    "from selenium.webdriver.common.keys import Keys\n",
    "from selenium.webdriver.support.ui import WebDriverWait\n",
    "from selenium.webdriver.support import expected_conditions as EC\n",
    "import csv"
   ]
  },
  {
   "cell_type": "code",
   "execution_count": null,
   "id": "06524884",
   "metadata": {},
   "outputs": [
    {
     "name": "stderr",
     "output_type": "stream",
     "text": [
      "C:\\Users\\Admin\\AppData\\Local\\Temp\\ipykernel_16052\\748314238.py:11: DeprecationWarning: executable_path has been deprecated, please pass in a Service object\n",
      "  driver = webdriver.Chrome(executable_path=\"C:\\\\Users\\\\Admin\\\\Downloads\\\\chromedriver-win64\\\\chromedriver-win64\\\\chromedriver.exe\")\n"
     ]
    },
    {
     "name": "stdout",
     "output_type": "stream",
     "text": [
      "Đang xử lý trang 1\n",
      "Đang xử lý trang 2\n",
      "Đang xử lý trang 3\n",
      "Đang xử lý trang 4\n",
      "Đang xử lý trang 5\n",
      "Đã lưu 500 liên kết vào job_links.csv.\n"
     ]
    }
   ],
   "source": [
    "\n",
    "\n",
    "# Hàm thu thập liên kết công việc từ một trang\n",
    "def get_job_links(driver):\n",
    "    # Tìm tất cả thẻ <a> chứa liên kết công việc\n",
    "    elements = driver.find_elements(By.XPATH, \"//a[contains(@class, 'job_link')]\")\n",
    "    # Lấy thuộc tính 'href' của từng phần tử\n",
    "    links = [element.get_attribute(\"href\") for element in elements]\n",
    "    return links\n",
    "\n",
    "\n",
    "\n",
    "\n",
    "\n",
    "# Hàm duyệt qua nhiều trang và thu thập liên kết\n",
    "def scrape_multiple_pages(start_url, max_pages):\n",
    "    driver = webdriver.Chrome(executable_path=\"C:\\\\Users\\\\Admin\\\\Downloads\\\\chromedriver-win64\\\\chromedriver-win64\\\\chromedriver.exe\")\n",
    "    all_links = []\n",
    "\n",
    "    for page in range(1, max_pages + 1):\n",
    "        print(f\"Đang xử lý trang {page}\")\n",
    "        url = start_url.format(page=page)\n",
    "        driver.get(url)\n",
    "        # Thu thập liên kết trên trang hiện tại\n",
    "        links = get_job_links(driver)\n",
    "        all_links.extend(links)\n",
    "\n",
    "    driver.quit()\n",
    "    return all_links\n",
    "\n",
    "# URL trang đầu tiên\n",
    "start_url = \"https://careerviet.vn/viec-lam-noi-bat-trong-tuan-l8a30r50p1\"\n",
    "\n",
    "# Thu thập liên kết từ 5 trang đầu tiên\n",
    "job_links = scrape_multiple_pages(start_url, max_pages=5)\n",
    "\n",
    "# Lưu kết quả vào CSV\n",
    "output_file = \"job_links.csv\"\n",
    "with open(output_file, \"w\", newline=\"\", encoding=\"utf-8\") as csvfile:\n",
    "    writer = csv.writer(csvfile)\n",
    "    writer.writerow([\"Job Link\"])\n",
    "    for link in job_links:\n",
    "        writer.writerow([link])\n",
    "\n",
    "print(f\"Đã lưu {len(job_links)} liên kết vào {output_file}.\")\n"
   ]
  },
  {
   "cell_type": "code",
   "execution_count": null,
   "id": "7ef0ac7f",
   "metadata": {},
   "outputs": [
    {
     "name": "stderr",
     "output_type": "stream",
     "text": [
      "C:\\Users\\Admin\\AppData\\Local\\Temp\\ipykernel_16740\\1558177086.py:35: DeprecationWarning: executable_path has been deprecated, please pass in a Service object\n",
      "  driver = webdriver.Chrome(executable_path=\"C:\\\\Users\\\\Admin\\\\Downloads\\\\chromedriver-win64\\\\chromedriver-win64\\\\chromedriver.exe\")\n"
     ]
    },
    {
     "name": "stdout",
     "output_type": "stream",
     "text": [
      "Nhân viên kinh doanh\n",
      "['Hồ Chí Minh', 'Long An']\n",
      "{'Tên công việc': 'Nhân viên kinh doanh', 'Địa điểm': ['Hồ Chí Minh', 'Long An'], 'Ngày cập nhật': '06/12/2024', 'Ngành nghề': 'Vận chuyển / Giao nhận / Kho vận , Hàng hải , Xuất nhập khẩu', 'Hình thức': 'Nhân viên chính thức', 'Lương': 'Cạnh tranh', 'Kinh nghiệm': '2 - 3 Năm', 'Cấp bậc': 'Nhân viên', 'Hết hạn nộp': '28/02/2025'}\n"
     ]
    },
    {
     "ename": "NoSuchElementException",
     "evalue": "Message: no such element: Unable to locate element: {\"method\":\"css selector\",\"selector\":\".company-profile\"}\n  (Session info: chrome=131.0.6778.109)\nStacktrace:\n\tGetHandleVerifier [0x00007FF79EB96CF5+28821]\n\t(No symbol) [0x00007FF79EB03880]\n\t(No symbol) [0x00007FF79E9A578A]\n\t(No symbol) [0x00007FF79E9F91BE]\n\t(No symbol) [0x00007FF79E9F94AC]\n\t(No symbol) [0x00007FF79E9EC52C]\n\t(No symbol) [0x00007FF79EA1F33F]\n\t(No symbol) [0x00007FF79E9EC3F6]\n\t(No symbol) [0x00007FF79EA1F510]\n\t(No symbol) [0x00007FF79EA3F412]\n\t(No symbol) [0x00007FF79EA1F0A3]\n\t(No symbol) [0x00007FF79E9EA778]\n\t(No symbol) [0x00007FF79E9EB8E1]\n\tGetHandleVerifier [0x00007FF79EECFCED+3408013]\n\tGetHandleVerifier [0x00007FF79EEE745F+3504127]\n\tGetHandleVerifier [0x00007FF79EEDB63D+3455453]\n\tGetHandleVerifier [0x00007FF79EC5BDFB+835995]\n\t(No symbol) [0x00007FF79EB0EB9F]\n\t(No symbol) [0x00007FF79EB0A854]\n\t(No symbol) [0x00007FF79EB0A9ED]\n\t(No symbol) [0x00007FF79EAFA1D9]\n\tBaseThreadInitThunk [0x00007FFED647259D+29]\n\tRtlUserThreadStart [0x00007FFED7FEAF38+40]\n",
     "output_type": "error",
     "traceback": [
      "\u001b[1;31m---------------------------------------------------------------------------\u001b[0m",
      "\u001b[1;31mNoSuchElementException\u001b[0m                    Traceback (most recent call last)",
      "Cell \u001b[1;32mIn[20], line 37\u001b[0m\n\u001b[0;32m     35\u001b[0m driver \u001b[38;5;241m=\u001b[39m webdriver\u001b[38;5;241m.\u001b[39mChrome(executable_path\u001b[38;5;241m=\u001b[39m\u001b[38;5;124m\"\u001b[39m\u001b[38;5;124mC:\u001b[39m\u001b[38;5;130;01m\\\\\u001b[39;00m\u001b[38;5;124mUsers\u001b[39m\u001b[38;5;130;01m\\\\\u001b[39;00m\u001b[38;5;124mAdmin\u001b[39m\u001b[38;5;130;01m\\\\\u001b[39;00m\u001b[38;5;124mDownloads\u001b[39m\u001b[38;5;130;01m\\\\\u001b[39;00m\u001b[38;5;124mchromedriver-win64\u001b[39m\u001b[38;5;130;01m\\\\\u001b[39;00m\u001b[38;5;124mchromedriver-win64\u001b[39m\u001b[38;5;130;01m\\\\\u001b[39;00m\u001b[38;5;124mchromedriver.exe\u001b[39m\u001b[38;5;124m\"\u001b[39m)\n\u001b[0;32m     36\u001b[0m driver\u001b[38;5;241m.\u001b[39mget(url)\n\u001b[1;32m---> 37\u001b[0m \u001b[43mget_job_detail\u001b[49m\u001b[43m(\u001b[49m\u001b[43mdriver\u001b[49m\u001b[43m)\u001b[49m\n\u001b[0;32m     38\u001b[0m driver\u001b[38;5;241m.\u001b[39mclose()\n",
      "Cell \u001b[1;32mIn[20], line 27\u001b[0m, in \u001b[0;36mget_job_detail\u001b[1;34m(driver)\u001b[0m\n\u001b[0;32m     24\u001b[0m \u001b[38;5;28mprint\u001b[39m(job_detail)\n\u001b[0;32m     26\u001b[0m tab_element \u001b[38;5;241m=\u001b[39m driver\u001b[38;5;241m.\u001b[39mfind_element(By\u001b[38;5;241m.\u001b[39mXPATH, \u001b[38;5;124m\"\u001b[39m\u001b[38;5;124m.//div[@class=\u001b[39m\u001b[38;5;124m'\u001b[39m\u001b[38;5;124mtab-content\u001b[39m\u001b[38;5;124m'\u001b[39m\u001b[38;5;124m and @id=\u001b[39m\u001b[38;5;124m'\u001b[39m\u001b[38;5;124mtab-2\u001b[39m\u001b[38;5;124m'\u001b[39m\u001b[38;5;124m]\u001b[39m\u001b[38;5;124m\"\u001b[39m)\n\u001b[1;32m---> 27\u001b[0m section_element \u001b[38;5;241m=\u001b[39m \u001b[43mtab_element\u001b[49m\u001b[38;5;241;43m.\u001b[39;49m\u001b[43mfind_element\u001b[49m\u001b[43m(\u001b[49m\u001b[43mBy\u001b[49m\u001b[38;5;241;43m.\u001b[39;49m\u001b[43mCLASS_NAME\u001b[49m\u001b[43m,\u001b[49m\u001b[43m \u001b[49m\u001b[38;5;124;43m'\u001b[39;49m\u001b[38;5;124;43mcompany-profile\u001b[39;49m\u001b[38;5;124;43m'\u001b[39;49m\u001b[43m)\u001b[49m\n",
      "File \u001b[1;32mc:\\Users\\Admin\\anaconda3\\envs\\min_ds-env2\\lib\\site-packages\\selenium\\webdriver\\remote\\webelement.py:735\u001b[0m, in \u001b[0;36mWebElement.find_element\u001b[1;34m(self, by, value)\u001b[0m\n\u001b[0;32m    732\u001b[0m     by \u001b[38;5;241m=\u001b[39m By\u001b[38;5;241m.\u001b[39mCSS_SELECTOR\n\u001b[0;32m    733\u001b[0m     value \u001b[38;5;241m=\u001b[39m \u001b[38;5;124m'\u001b[39m\u001b[38;5;124m[name=\u001b[39m\u001b[38;5;124m\"\u001b[39m\u001b[38;5;132;01m%s\u001b[39;00m\u001b[38;5;124m\"\u001b[39m\u001b[38;5;124m]\u001b[39m\u001b[38;5;124m'\u001b[39m \u001b[38;5;241m%\u001b[39m value\n\u001b[1;32m--> 735\u001b[0m \u001b[38;5;28;01mreturn\u001b[39;00m \u001b[38;5;28;43mself\u001b[39;49m\u001b[38;5;241;43m.\u001b[39;49m\u001b[43m_execute\u001b[49m\u001b[43m(\u001b[49m\u001b[43mCommand\u001b[49m\u001b[38;5;241;43m.\u001b[39;49m\u001b[43mFIND_CHILD_ELEMENT\u001b[49m\u001b[43m,\u001b[49m\n\u001b[0;32m    736\u001b[0m \u001b[43m                     \u001b[49m\u001b[43m{\u001b[49m\u001b[38;5;124;43m\"\u001b[39;49m\u001b[38;5;124;43musing\u001b[39;49m\u001b[38;5;124;43m\"\u001b[39;49m\u001b[43m:\u001b[49m\u001b[43m \u001b[49m\u001b[43mby\u001b[49m\u001b[43m,\u001b[49m\u001b[43m \u001b[49m\u001b[38;5;124;43m\"\u001b[39;49m\u001b[38;5;124;43mvalue\u001b[39;49m\u001b[38;5;124;43m\"\u001b[39;49m\u001b[43m:\u001b[49m\u001b[43m \u001b[49m\u001b[43mvalue\u001b[49m\u001b[43m}\u001b[49m\u001b[43m)\u001b[49m[\u001b[38;5;124m'\u001b[39m\u001b[38;5;124mvalue\u001b[39m\u001b[38;5;124m'\u001b[39m]\n",
      "File \u001b[1;32mc:\\Users\\Admin\\anaconda3\\envs\\min_ds-env2\\lib\\site-packages\\selenium\\webdriver\\remote\\webelement.py:710\u001b[0m, in \u001b[0;36mWebElement._execute\u001b[1;34m(self, command, params)\u001b[0m\n\u001b[0;32m    708\u001b[0m     params \u001b[38;5;241m=\u001b[39m {}\n\u001b[0;32m    709\u001b[0m params[\u001b[38;5;124m'\u001b[39m\u001b[38;5;124mid\u001b[39m\u001b[38;5;124m'\u001b[39m] \u001b[38;5;241m=\u001b[39m \u001b[38;5;28mself\u001b[39m\u001b[38;5;241m.\u001b[39m_id\n\u001b[1;32m--> 710\u001b[0m \u001b[38;5;28;01mreturn\u001b[39;00m \u001b[38;5;28;43mself\u001b[39;49m\u001b[38;5;241;43m.\u001b[39;49m\u001b[43m_parent\u001b[49m\u001b[38;5;241;43m.\u001b[39;49m\u001b[43mexecute\u001b[49m\u001b[43m(\u001b[49m\u001b[43mcommand\u001b[49m\u001b[43m,\u001b[49m\u001b[43m \u001b[49m\u001b[43mparams\u001b[49m\u001b[43m)\u001b[49m\n",
      "File \u001b[1;32mc:\\Users\\Admin\\anaconda3\\envs\\min_ds-env2\\lib\\site-packages\\selenium\\webdriver\\remote\\webdriver.py:424\u001b[0m, in \u001b[0;36mWebDriver.execute\u001b[1;34m(self, driver_command, params)\u001b[0m\n\u001b[0;32m    422\u001b[0m response \u001b[38;5;241m=\u001b[39m \u001b[38;5;28mself\u001b[39m\u001b[38;5;241m.\u001b[39mcommand_executor\u001b[38;5;241m.\u001b[39mexecute(driver_command, params)\n\u001b[0;32m    423\u001b[0m \u001b[38;5;28;01mif\u001b[39;00m response:\n\u001b[1;32m--> 424\u001b[0m     \u001b[38;5;28;43mself\u001b[39;49m\u001b[38;5;241;43m.\u001b[39;49m\u001b[43merror_handler\u001b[49m\u001b[38;5;241;43m.\u001b[39;49m\u001b[43mcheck_response\u001b[49m\u001b[43m(\u001b[49m\u001b[43mresponse\u001b[49m\u001b[43m)\u001b[49m\n\u001b[0;32m    425\u001b[0m     response[\u001b[38;5;124m'\u001b[39m\u001b[38;5;124mvalue\u001b[39m\u001b[38;5;124m'\u001b[39m] \u001b[38;5;241m=\u001b[39m \u001b[38;5;28mself\u001b[39m\u001b[38;5;241m.\u001b[39m_unwrap_value(\n\u001b[0;32m    426\u001b[0m         response\u001b[38;5;241m.\u001b[39mget(\u001b[38;5;124m'\u001b[39m\u001b[38;5;124mvalue\u001b[39m\u001b[38;5;124m'\u001b[39m, \u001b[38;5;28;01mNone\u001b[39;00m))\n\u001b[0;32m    427\u001b[0m     \u001b[38;5;28;01mreturn\u001b[39;00m response\n",
      "File \u001b[1;32mc:\\Users\\Admin\\anaconda3\\envs\\min_ds-env2\\lib\\site-packages\\selenium\\webdriver\\remote\\errorhandler.py:247\u001b[0m, in \u001b[0;36mErrorHandler.check_response\u001b[1;34m(self, response)\u001b[0m\n\u001b[0;32m    245\u001b[0m         alert_text \u001b[38;5;241m=\u001b[39m value[\u001b[38;5;124m'\u001b[39m\u001b[38;5;124malert\u001b[39m\u001b[38;5;124m'\u001b[39m]\u001b[38;5;241m.\u001b[39mget(\u001b[38;5;124m'\u001b[39m\u001b[38;5;124mtext\u001b[39m\u001b[38;5;124m'\u001b[39m)\n\u001b[0;32m    246\u001b[0m     \u001b[38;5;28;01mraise\u001b[39;00m exception_class(message, screen, stacktrace, alert_text)  \u001b[38;5;66;03m# type: ignore[call-arg]  # mypy is not smart enough here\u001b[39;00m\n\u001b[1;32m--> 247\u001b[0m \u001b[38;5;28;01mraise\u001b[39;00m exception_class(message, screen, stacktrace)\n",
      "\u001b[1;31mNoSuchElementException\u001b[0m: Message: no such element: Unable to locate element: {\"method\":\"css selector\",\"selector\":\".company-profile\"}\n  (Session info: chrome=131.0.6778.109)\nStacktrace:\n\tGetHandleVerifier [0x00007FF79EB96CF5+28821]\n\t(No symbol) [0x00007FF79EB03880]\n\t(No symbol) [0x00007FF79E9A578A]\n\t(No symbol) [0x00007FF79E9F91BE]\n\t(No symbol) [0x00007FF79E9F94AC]\n\t(No symbol) [0x00007FF79E9EC52C]\n\t(No symbol) [0x00007FF79EA1F33F]\n\t(No symbol) [0x00007FF79E9EC3F6]\n\t(No symbol) [0x00007FF79EA1F510]\n\t(No symbol) [0x00007FF79EA3F412]\n\t(No symbol) [0x00007FF79EA1F0A3]\n\t(No symbol) [0x00007FF79E9EA778]\n\t(No symbol) [0x00007FF79E9EB8E1]\n\tGetHandleVerifier [0x00007FF79EECFCED+3408013]\n\tGetHandleVerifier [0x00007FF79EEE745F+3504127]\n\tGetHandleVerifier [0x00007FF79EEDB63D+3455453]\n\tGetHandleVerifier [0x00007FF79EC5BDFB+835995]\n\t(No symbol) [0x00007FF79EB0EB9F]\n\t(No symbol) [0x00007FF79EB0A854]\n\t(No symbol) [0x00007FF79EB0A9ED]\n\t(No symbol) [0x00007FF79EAFA1D9]\n\tBaseThreadInitThunk [0x00007FFED647259D+29]\n\tRtlUserThreadStart [0x00007FFED7FEAF38+40]\n"
     ]
    }
   ],
   "source": [
    "def get_job_detail(driver):\n",
    "\n",
    "    # Lấy thông tin công việc\n",
    "    job_detail = {}\n",
    "    \n",
    "    job_name = driver.find_element(By.CLASS_NAME, 'title').text\n",
    "    print(job_name)\n",
    "    job_detail['Tên công việc'] = job_name\n",
    "\n",
    "    map_element = driver.find_element(By.CLASS_NAME, \"map\")\n",
    "    location_elements = map_element.find_elements(By.XPATH, './/p/a')\n",
    "    job_locations = [location.text for location in location_elements]\n",
    "    print(job_locations)\n",
    "    job_detail['Địa điểm'] = job_locations\n",
    "\n",
    "    detail_elements = driver.find_elements(By.CLASS_NAME, 'has-background')\n",
    "    \n",
    "    for element in detail_elements:\n",
    "        li_elements = element.find_elements(By.XPATH, \".//li\")\n",
    "        for li in li_elements:\n",
    "            # Lấy tiêu đề từ thẻ <strong>\n",
    "            label = li.find_element(By.XPATH, \"./strong\").text\n",
    "\n",
    "            # Lấy giá trị từ thẻ <p>\n",
    "            value = li.find_element(By.XPATH, \"./p\").text.strip()\n",
    "            job_detail[label] = value\n",
    "    print(job_detail)\n",
    "\n",
    "\n",
    "    # Lấy thông tin công ty\n",
    "    tab_element = driver.find_element(By.XPATH, \".//div[@class='tab-content' and @id='tab-2']\")\n",
    "    section_element = tab_element.find_element(By.CLASS_NAME, 'company-profile')\n",
    "\n",
    "\n",
    "\n",
    "url = 'https://careerviet.vn/vi/tim-viec-lam/nhan-vien-kinh-doanh.35C2A242.html'\n",
    "driver = webdriver.Chrome(executable_path=\"C:\\\\Users\\\\Admin\\\\Downloads\\\\chromedriver-win64\\\\chromedriver-win64\\\\chromedriver.exe\")\n",
    "driver.get(url)\n",
    "get_job_detail(driver)\n",
    "driver.close()"
   ]
  },
  {
   "cell_type": "code",
   "execution_count": null,
   "id": "ddbe818f",
   "metadata": {},
   "outputs": [],
   "source": []
  }
 ],
 "metadata": {
  "kernelspec": {
   "display_name": "min_ds-env2",
   "language": "python",
   "name": "python3"
  },
  "language_info": {
   "codemirror_mode": {
    "name": "ipython",
    "version": 3
   },
   "file_extension": ".py",
   "mimetype": "text/x-python",
   "name": "python",
   "nbconvert_exporter": "python",
   "pygments_lexer": "ipython3",
   "version": "3.10.15"
  }
 },
 "nbformat": 4,
 "nbformat_minor": 5
}
