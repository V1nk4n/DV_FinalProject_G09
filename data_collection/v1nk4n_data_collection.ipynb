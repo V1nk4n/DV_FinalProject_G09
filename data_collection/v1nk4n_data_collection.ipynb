{
 "cells": [
  {
   "cell_type": "code",
   "execution_count": 1,
   "id": "68f61a5a",
   "metadata": {},
   "outputs": [],
   "source": [
    "import pandas as pd\n",
    "import math\n",
    "import os"
   ]
  },
  {
   "cell_type": "code",
   "execution_count": 8,
   "id": "8dfda54d",
   "metadata": {},
   "outputs": [],
   "source": [
    "from selenium import webdriver\n",
    "from selenium.webdriver.support.ui import WebDriverWait\n",
    "from selenium.webdriver.support import expected_conditions as EC\n",
    "from selenium.webdriver.chrome.options import Options\n",
    "from selenium.webdriver.chrome.service import Service\n",
    "from selenium.webdriver.common.by import By\n",
    "from selenium.webdriver.common.keys import Keys\n",
    "from selenium.webdriver.common.action_chains import ActionChains\n",
    "\n",
    "def configure_driver():\n",
    "    #Configurations\n",
    "\n",
    "     # Đường dẫn đến WebDriver\n",
    "    webdriver_path = \"../driver/chromedriver.exe\"\n",
    "    chrome_options = Options()\n",
    "\n",
    "    # Tắt thông báo Chrome - chặn pop-up\n",
    "    chrome_options.add_argument(\"--disable-notifications\")\n",
    "    chrome_options.add_argument(\"--start-maximized\")\n",
    "    # chrome_options.add_argument(\"--disable-notifications\") # disable notifications\n",
    "    # chrome_options.add_argument(\"--start-maximized\") # disable infobars\n",
    "    chrome_options. add_argument('--blink-settings=imagesEnabled=false') # disable images\n",
    "    #chrome_options.add_argument('--window-size=800,600')\n",
    "    \n",
    "    # Đặt vị trí cửa sổ ở ngoài màn hình chính\n",
    "    #chrome_options.add_argument('--window-position=2000,0')\n",
    "    #chrome_options.add_extension(\"F:\\GlobalTech\\Stands AdBlocker - Chrome Web Store 2.1.24.0.crx\")\n",
    "\n",
    "    # Sử dụng profile đã có sẵn: \n",
    "    # để lưu trạng thái đăng nhập + dùng tool chặn quảng cáo set up sẵn trên Chrome\n",
    "    # user_profile = \"C:\\\\Users\\\\21521\\\\AppData\\\\Local\\\\Google\\\\Chrome\\\\User Data\\\\Profile 5\"\n",
    "    # chrome_options.add_argument(\"user-data-dir=\" + user_profile)\n",
    "\n",
    "    # (Tùy chọn) Chạy Chrome ở chế độ không hiển thị giao diện (chạy ngầm)\n",
    "    # chrome_options.add_argument(\"--headless\")\n",
    "\n",
    "    # Khởi tạo dịch vụ và trình duyệt\n",
    "    service = Service(webdriver_path)\n",
    "    driver = webdriver.Chrome(service=service, options=chrome_options)\n",
    "    \n",
    "    return driver"
   ]
  },
  {
   "cell_type": "code",
   "execution_count": 3,
   "id": "06524884",
   "metadata": {},
   "outputs": [],
   "source": [
    "# Hàm thu thập liên kết công việc từ một trang\n",
    "def get_one_page():\n",
    "    # Tìm tất cả thẻ <a> chứa liên kết công việc\n",
    "    elements = driver.find_elements(By.CSS_SELECTOR, \"h2 a[class='job_link']\")\n",
    "    # Lấy thuộc tính 'href' của từng phần tử\n",
    "    page_urls = [element.get_attribute(\"href\") for element in elements]\n",
    "    return page_urls\n",
    "\n",
    "\n",
    "# Hàm duyệt qua nhiều trang và thu thập liên kết\n",
    "def get_all_pages(base_url, max_pages):\n",
    "    all_urls = []\n",
    "\n",
    "    for page in range(1, max_pages + 1):\n",
    "        url = f'{base_url}{page}'\n",
    "        driver.get(url)\n",
    "        # Thu thập liên kết trên trang hiện tại\n",
    "        links = get_one_page()\n",
    "        all_urls.extend(links)\n",
    "        \n",
    "    return all_urls"
   ]
  },
  {
   "cell_type": "code",
   "execution_count": 4,
   "id": "753e8098",
   "metadata": {},
   "outputs": [],
   "source": [
    "def get_job_detail(url, driver):\n",
    "    driver.get(url)\n",
    "    print(f'Đang xử lý: {url}')\n",
    "    job_detail = {}\n",
    "\n",
    "    # Xử lý cho tab chi tiết công việc\n",
    "\n",
    "    # Lấy tên công việc\n",
    "    try:\n",
    "        job_name_element = driver.find_element(By.CSS_SELECTOR, \"h1[class='title']\")\n",
    "    except Exception:\n",
    "        try:\n",
    "            job_name_element = driver.find_element(By.CSS_SELECTOR, \"div[class='title'] h2\")\n",
    "        except Exception:\n",
    "            job_name_element = None\n",
    "\n",
    "    if job_name_element:\n",
    "        job_name = job_name_element.text.strip()\n",
    "    else:\n",
    "        job_name = None\n",
    "    job_detail['Tên công việc'] = job_name\n",
    "\n",
    "    job_locations_elements = driver.find_elements(By.CSS_SELECTOR, \"div[class='map'] p a\")\n",
    "    job_locations = [element.text for element in job_locations_elements]\n",
    "    job_detail['Địa điểm'] = job_locations\n",
    "\n",
    "    # Lấy địa chỉ \n",
    "    job_elements = driver.find_elements(By.CLASS_NAME, 'has-background')\n",
    "    for element in job_elements:\n",
    "        li_elements = element.find_elements(By.CSS_SELECTOR, \"li\")\n",
    "        for li in li_elements:\n",
    "            # Lấy tiêu đề từ thẻ <strong>\n",
    "            label = li.find_element(By.CSS_SELECTOR, \"strong\").text\n",
    "            # Lấy giá trị từ thẻ <p>\n",
    "            value = li.find_element(By.CSS_SELECTOR, \"p\").text.strip()\n",
    "            job_detail[label] = value\n",
    "\n",
    "    # Chuyển tab (nếu có)\n",
    "    try:\n",
    "        # overview_tab = WebDriverWait(driver, 5).until(\n",
    "        #         EC.element_to_be_clickable((By.XPATH, \"//a[@title='Tổng quan công ty']\"))\n",
    "        #     )\n",
    "        overview_tab = driver.find_element(By.XPATH, \"//a[@title='Tổng quan công ty']\")\n",
    "        overview_tab.click()\n",
    "\n",
    "        # Xử lý tab thông tin công ty\n",
    "        company_name_element = WebDriverWait(driver, 5).until(\n",
    "            EC.visibility_of_element_located((By.CSS_SELECTOR, \"a[class='name']\"))\n",
    "        )\n",
    "        company_name = company_name_element.text.strip()\n",
    "        job_detail['Tên công ty'] = company_name\n",
    "\n",
    "        # Tìm thẻ cha chứa \"Địa điểm\"\n",
    "        company_content_element = driver.find_element(By.XPATH, \".//div[@class='company-info']//strong[text()='Địa điểm']/..\")\n",
    "\n",
    "        # Lấy toàn bộ nội dung văn bản trong phần tử cha\n",
    "        company_content = company_content_element.text\n",
    "\n",
    "        # Tìm phần địa chỉ công ty\n",
    "        if \"Địa điểm\" in company_content:\n",
    "            # Tách lấy phần sau \"Địa điểm\"\n",
    "            address_part = company_content.split(\"Địa điểm\", 1)[1]\n",
    "            \n",
    "            # Lấy phần trước \"Thông tin công ty\"\n",
    "            company_address = address_part.split(\"Thông tin công ty\", 1)[0].strip()\n",
    "            \n",
    "            job_detail['Địa chỉ công ty'] = company_address\n",
    "\n",
    "        company_li = driver.find_elements(By.CSS_SELECTOR, \"div[class='company-info'] ul li\")\n",
    "        for li in company_li:\n",
    "            text = li.text\n",
    "            if \"Người liên hệ\" in text:\n",
    "                job_detail['Người liên hệ'] = text.split(\":\")[1].strip()\n",
    "            elif \"Qui mô công ty\" in text:\n",
    "                job_detail['Qui mô công ty'] = text.split(\":\")[1].strip()\n",
    "            elif \"Loại hình hoạt động\" in text:\n",
    "                job_detail['Loại hình hoạt động'] = text.split(\":\")[1].strip()\n",
    "    except Exception as e:\n",
    "        print(\"Không tìm thấy tab Tổng quan công ty hoặc thông tin công ty.\")\n",
    "        # Thêm giá trị mặc định nếu không tìm thấy tab\n",
    "        job_detail['Tên công ty'] = None\n",
    "        job_detail['Địa chỉ công ty'] = None\n",
    "        job_detail['Người liên hệ'] = None\n",
    "        job_detail['Qui mô công ty'] = None\n",
    "        job_detail['Loại hình hoạt động'] = None\n",
    "\n",
    "    return job_detail\n"
   ]
  },
  {
   "cell_type": "code",
   "execution_count": 5,
   "id": "4345ef24",
   "metadata": {},
   "outputs": [],
   "source": [
    "def save_links_to_files(links, num_files):\n",
    "    chunk_size = math.ceil(len(links) / num_files)\n",
    "    for i in range(num_files):\n",
    "        file_links = links[i * chunk_size:(i + 1) * chunk_size]\n",
    "        file_name = f\"../dataset/job_links_part_{i + 1}.txt\"\n",
    "        with open(file_name, 'w', encoding='utf-8') as f:\n",
    "            f.write('\\n'.join(file_links))\n",
    "        print(f\"Lưu {len(file_links)} link vào {file_name}\")"
   ]
  },
  {
   "cell_type": "code",
   "execution_count": 14,
   "id": "94f26957",
   "metadata": {},
   "outputs": [],
   "source": [
    "# job_urls = get_all_pages(base_url, max_pages=500)\n",
    "# save_links_to_files(job_urls, 4)"
   ]
  },
  {
   "cell_type": "code",
   "execution_count": 15,
   "id": "ce1a31f8",
   "metadata": {},
   "outputs": [],
   "source": [
    "def read_links_from_file(file_name):\n",
    "    try:\n",
    "        with open(file_name, 'r', encoding='utf-8') as file:\n",
    "            links = file.read().splitlines()  # Đọc từng dòng và loại bỏ ký tự xuống dòng\n",
    "        return links\n",
    "    except FileNotFoundError:\n",
    "        print(f\"File '{file_name}' không tồn tại.\")\n",
    "        return []\n"
   ]
  },
  {
   "cell_type": "code",
   "execution_count": 13,
   "id": "41a6ce89",
   "metadata": {},
   "outputs": [],
   "source": [
    "driver = configure_driver()\n",
    "base_url = \"https://careerviet.vn/viec-lam-noi-bat-trong-tuan-l8a30r50p\""
   ]
  },
  {
   "cell_type": "code",
   "execution_count": 16,
   "id": "acf2e9ad",
   "metadata": {},
   "outputs": [
    {
     "name": "stdout",
     "output_type": "stream",
     "text": [
      "Số URL trong file '../dataset/job_links_part_1.txt': 6129\n",
      "Ví dụ URL: ['https://careerviet.vn/vi/tim-viec-lam/qc-staff.35C2A6F7.html', 'https://careerviet.vn/vi/tim-viec-lam/ky-thuat-bao-tri.35C2A6A5.html', 'https://careerviet.vn/vi/tim-viec-lam/nhan-vien-bao-tri.35C2A69D.html', 'https://careerviet.vn/vi/tim-viec-lam/hr-cum-compliance-manager.35C2A688.html', 'https://careerviet.vn/vi/tim-viec-lam/chuyen-vien-tu-van-dau-tu-chung-khoan-khach-hang-ca-nhan-binh-duong.35C2A66F.html']\n"
     ]
    }
   ],
   "source": [
    "# Đọc từ một file cụ thể\n",
    "input_file = \"../dataset/job_links_part_1.txt\"  # Thay tên file bạn muốn đọc\n",
    "job_urls = read_links_from_file(input_file)\n",
    "\n",
    "# Kiểm tra danh sách URL\n",
    "print(f\"Số URL trong file '{input_file}':\", len(job_urls))\n",
    "print(\"Ví dụ URL:\", job_urls[:5])  # Hiển thị 5 URL đầu tiên"
   ]
  },
  {
   "cell_type": "code",
   "execution_count": 17,
   "id": "9c10470b",
   "metadata": {},
   "outputs": [
    {
     "name": "stdout",
     "output_type": "stream",
     "text": [
      "Đang xử lý: https://careerviet.vn/vi/tim-viec-lam/qc-staff.35C2A6F7.html\n"
     ]
    }
   ],
   "source": [
    "job_list = []\n",
    "for url in job_urls:\n",
    "    try:\n",
    "        job_detail = get_job_detail(url, driver)\n",
    "        job_list.append(job_detail)\n",
    "    except:\n",
    "        continue\n"
   ]
  },
  {
   "cell_type": "code",
   "execution_count": 18,
   "id": "78ab042f",
   "metadata": {},
   "outputs": [
    {
     "name": "stdout",
     "output_type": "stream",
     "text": [
      "Dữ liệu đã được lưu vào jobs.csv\n"
     ]
    }
   ],
   "source": [
    "df = pd.DataFrame(job_list)\n",
    "output_file = \"../dataset/jobs_part_1.csv\"\n",
    "df.to_csv(output_file, index=False, encoding=\"utf-8-sig\")\n",
    "print(\"Dữ liệu đã được lưu vào jobs.csv\")"
   ]
  },
  {
   "cell_type": "code",
   "execution_count": null,
   "id": "9a3a1c5e",
   "metadata": {},
   "outputs": [],
   "source": []
  }
 ],
 "metadata": {
  "kernelspec": {
   "display_name": "min_ds-env2",
   "language": "python",
   "name": "python3"
  },
  "language_info": {
   "codemirror_mode": {
    "name": "ipython",
    "version": 3
   },
   "file_extension": ".py",
   "mimetype": "text/x-python",
   "name": "python",
   "nbconvert_exporter": "python",
   "pygments_lexer": "ipython3",
   "version": "3.10.15"
  }
 },
 "nbformat": 4,
 "nbformat_minor": 5
}
