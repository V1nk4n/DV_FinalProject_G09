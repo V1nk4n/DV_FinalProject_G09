{
 "cells": [
  {
   "cell_type": "code",
   "execution_count": null,
   "id": "68f61a5a",
   "metadata": {},
   "outputs": [],
   "source": [
    "import csv"
   ]
  },
  {
   "cell_type": "code",
   "execution_count": null,
   "id": "8dfda54d",
   "metadata": {},
   "outputs": [],
   "source": [
    "from selenium import webdriver\n",
    "from selenium.webdriver.support.ui import WebDriverWait\n",
    "from selenium.webdriver.support import expected_conditions as EC\n",
    "from selenium.webdriver.chrome.options import Options\n",
    "from selenium.webdriver.chrome.service import Service\n",
    "from selenium.webdriver.common.by import By\n",
    "from selenium.webdriver.common.keys import Keys\n",
    "from selenium.webdriver.common.action_chains import ActionChains\n",
    "\n",
    "def configure_driver():\n",
    "    #Configurations\n",
    "\n",
    "     # Đường dẫn đến WebDriver\n",
    "    webdriver_path = \"C:\\\\Users\\\\Admin\\\\Downloads\\\\chromedriver-win64\\\\chromedriver-win64\\\\chromedriver.exe\"\n",
    "    chrome_options = Options()\n",
    "\n",
    "    # Tắt thông báo Chrome - chặn pop-up\n",
    "    chrome_options.add_argument(\"--disable-notifications\")\n",
    "    chrome_options.add_argument(\"--start-maximized\")\n",
    "    # chrome_options.add_argument(\"--disable-notifications\") # disable notifications\n",
    "    # chrome_options.add_argument(\"--start-maximized\") # disable infobars\n",
    "    chrome_options. add_argument('--blink-settings=imagesEnabled=false') # disable images\n",
    "    #chrome_options.add_argument('--window-size=800,600')\n",
    "    \n",
    "    # Đặt vị trí cửa sổ ở ngoài màn hình chính\n",
    "    #chrome_options.add_argument('--window-position=2000,0')\n",
    "    #chrome_options.add_extension(\"F:\\GlobalTech\\Stands AdBlocker - Chrome Web Store 2.1.24.0.crx\")\n",
    "\n",
    "    # Sử dụng profile đã có sẵn: \n",
    "    # để lưu trạng thái đăng nhập + dùng tool chặn quảng cáo set up sẵn trên Chrome\n",
    "    # user_profile = \"C:\\\\Users\\\\21521\\\\AppData\\\\Local\\\\Google\\\\Chrome\\\\User Data\\\\Profile 5\"\n",
    "    # chrome_options.add_argument(\"user-data-dir=\" + user_profile)\n",
    "\n",
    "    # (Tùy chọn) Chạy Chrome ở chế độ không hiển thị giao diện (chạy ngầm)\n",
    "    # chrome_options.add_argument(\"--headless\")\n",
    "\n",
    "    # Khởi tạo dịch vụ và trình duyệt\n",
    "    service = Service(webdriver_path)\n",
    "    driver = webdriver.Chrome(service=service, options=chrome_options)\n",
    "    \n",
    "    return driver"
   ]
  },
  {
   "cell_type": "code",
   "execution_count": null,
   "id": "06524884",
   "metadata": {},
   "outputs": [
    {
     "name": "stderr",
     "output_type": "stream",
     "text": [
      "C:\\Users\\Admin\\AppData\\Local\\Temp\\ipykernel_16052\\748314238.py:11: DeprecationWarning: executable_path has been deprecated, please pass in a Service object\n",
      "  driver = webdriver.Chrome(executable_path=\"C:\\\\Users\\\\Admin\\\\Downloads\\\\chromedriver-win64\\\\chromedriver-win64\\\\chromedriver.exe\")\n"
     ]
    },
    {
     "name": "stdout",
     "output_type": "stream",
     "text": [
      "Đang xử lý trang 1\n",
      "Đang xử lý trang 2\n",
      "Đang xử lý trang 3\n",
      "Đang xử lý trang 4\n",
      "Đang xử lý trang 5\n",
      "Đã lưu 500 liên kết vào job_links.csv.\n"
     ]
    }
   ],
   "source": [
    "# Hàm thu thập liên kết công việc từ một trang\n",
    "def get_job_links(driver):\n",
    "    # Tìm tất cả thẻ <a> chứa liên kết công việc\n",
    "    elements = driver.find_elements(By.XPATH, \"//a[contains(@class, 'job_link')]\")\n",
    "    # Lấy thuộc tính 'href' của từng phần tử\n",
    "    links = [element.get_attribute(\"href\") for element in elements]\n",
    "    return links\n",
    "\n",
    "\n",
    "# Hàm duyệt qua nhiều trang và thu thập liên kết\n",
    "def scrape_multiple_pages(start_url, max_pages):\n",
    "    driver = webdriver.Chrome(executable_path=\"C:\\\\Users\\\\Admin\\\\Downloads\\\\chromedriver-win64\\\\chromedriver-win64\\\\chromedriver.exe\")\n",
    "    all_links = []\n",
    "\n",
    "    for page in range(1, max_pages + 1):\n",
    "        print(f\"Đang xử lý trang {page}\")\n",
    "        url = start_url.format(page=page)\n",
    "        driver.get(url)\n",
    "        # Thu thập liên kết trên trang hiện tại\n",
    "        links = get_job_links(driver)\n",
    "        all_links.extend(links)\n",
    "\n",
    "    driver.quit()\n",
    "    return all_links\n",
    "\n",
    "# URL trang đầu tiên\n",
    "start_url = \"https://careerviet.vn/viec-lam-noi-bat-trong-tuan-l8a30r50p1\"\n",
    "\n",
    "# Thu thập liên kết từ 5 trang đầu tiên\n",
    "job_links = scrape_multiple_pages(start_url, max_pages=5)\n",
    "\n",
    "# Lưu kết quả vào CSV\n",
    "output_file = \"job_links.csv\"\n",
    "with open(output_file, \"w\", newline=\"\", encoding=\"utf-8\") as csvfile:\n",
    "    writer = csv.writer(csvfile)\n",
    "    writer.writerow([\"Job Link\"])\n",
    "    for link in job_links:\n",
    "        writer.writerow([link])\n",
    "\n",
    "print(f\"Đã lưu {len(job_links)} liên kết vào {output_file}.\")\n"
   ]
  },
  {
   "cell_type": "code",
   "execution_count": 169,
   "id": "8d5674e0",
   "metadata": {},
   "outputs": [],
   "source": [
    "driver = configure_driver()\n",
    "url = 'https://careerviet.vn/vi/tim-viec-lam/nhan-vien-kinh-doanh.35C2A242.html'\n",
    "driver.get(url)"
   ]
  },
  {
   "cell_type": "code",
   "execution_count": 170,
   "id": "753e8098",
   "metadata": {},
   "outputs": [],
   "source": [
    "job_detail = {}\n",
    "\n",
    "# Xử lý cho tab chi tiết công việc\n",
    "\n",
    "# Lấy tên công việc\n",
    "job_name = driver.find_element(By.CSS_SELECTOR, \"h1[class='title']\").text.strip()\n",
    "job_detail['Tên công việc'] = job_name\n",
    "\n",
    "job_locations_elements = driver.find_elements(By.CSS_SELECTOR, \"div[class='map'] p a\")\n",
    "job_locations = [element.text for element in job_locations_elements]\n",
    "job_detail['Địa điểm'] = job_locations\n",
    "\n",
    "# Lấy địa chỉ \n",
    "job_elements = driver.find_elements(By.CLASS_NAME, 'has-background')\n",
    "for element in job_elements:\n",
    "    li_elements = element.find_elements(By.CSS_SELECTOR, \"li\")\n",
    "    for li in li_elements:\n",
    "        # Lấy tiêu đề từ thẻ <strong>\n",
    "        label = li.find_element(By.CSS_SELECTOR, \"strong\").text\n",
    "        # Lấy giá trị từ thẻ <p>\n",
    "        value = li.find_element(By.CSS_SELECTOR, \"p\").text.strip()\n",
    "        job_detail[label] = value\n",
    "\n",
    "# Chuyển tab\n",
    "overview_tab = WebDriverWait(driver, 10).until(\n",
    "        EC.element_to_be_clickable((By.XPATH, \"//a[@title='Tổng quan công ty']\"))\n",
    "    )\n",
    "overview_tab.click()\n",
    "\n",
    "# Xử lý tab thông tin công ty\n",
    "company_name_element = WebDriverWait(driver, 10).until(\n",
    "    EC.visibility_of_element_located((By.CSS_SELECTOR, \"a[class='name']\"))\n",
    ")\n",
    "company_name = company_name_element.text.strip()\n",
    "job_detail['Tên công ty'] = company_name\n",
    "\n",
    "# company_address = driver.find_element(By.XPATH, \".//div[@class='company-info']//strong[text()='Địa điểm']/following-sibling::text()[1]\")\n",
    "# job_detail['Địa chỉ công ty'] = company_address\n",
    "\n",
    "# Tìm thẻ cha chứa \"Địa điểm\"\n",
    "company_content_element = driver.find_element(By.XPATH, \".//div[@class='company-info']//strong[text()='Địa điểm']/..\")\n",
    "\n",
    "# Lấy toàn bộ nội dung văn bản trong phần tử cha\n",
    "company_content = company_content_element.text\n",
    "\n",
    "# Tìm phần địa chỉ công ty\n",
    "if \"Địa điểm\" in company_content:\n",
    "    # Tách lấy phần sau \"Địa điểm\"\n",
    "    address_part = company_content.split(\"Địa điểm\", 1)[1]\n",
    "    \n",
    "    # Lấy phần trước \"Thông tin công ty\"\n",
    "    company_address = address_part.split(\"Thông tin công ty\", 1)[0].strip()\n",
    "    \n",
    "    job_detail['Địa chỉ công ty'] = company_address\n",
    "   \n",
    "\n",
    "company_li = driver.find_elements(By.CSS_SELECTOR, \"div[class='company-info'] ul li\")\n",
    "for li in company_li:\n",
    "    text = li.text\n",
    "    if \"Người liên hệ\" in text:\n",
    "        job_detail['Người liên hệ'] = text.split(\":\")[1].strip()\n",
    "    elif \"Qui mô công ty\" in text:\n",
    "        job_detail['Qui mô công ty'] = text.split(\":\")[1].strip()\n",
    "    elif \"Loại hình hoạt động\" in text:\n",
    "        job_detail['Loại hình hoạt động'] = text.split(\":\")[1].strip()\n"
   ]
  },
  {
   "cell_type": "code",
   "execution_count": 171,
   "id": "9c10470b",
   "metadata": {},
   "outputs": [
    {
     "data": {
      "text/plain": [
       "{'Tên công việc': 'Nhân viên kinh doanh',\n",
       " 'Địa điểm': ['Hồ Chí Minh', 'Long An'],\n",
       " 'Ngày cập nhật': '06/12/2024',\n",
       " 'Ngành nghề': 'Vận chuyển / Giao nhận / Kho vận , Hàng hải , Xuất nhập khẩu',\n",
       " 'Hình thức': 'Nhân viên chính thức',\n",
       " 'Lương': 'Cạnh tranh',\n",
       " 'Kinh nghiệm': '2 - 3 Năm',\n",
       " 'Cấp bậc': 'Nhân viên',\n",
       " 'Hết hạn nộp': '28/02/2025',\n",
       " 'Tên công ty': 'CÔNG TY CỔ PHẦN BOURBON BẾN LỨC',\n",
       " 'Địa chỉ công ty': 'Lầu 11, P.1107, 29 Lê Duẩn, Q.1',\n",
       " 'Người liên hệ': 'Ms. Điệp',\n",
       " 'Qui mô công ty': '100-499',\n",
       " 'Loại hình hoạt động': 'Cổ phần'}"
      ]
     },
     "execution_count": 171,
     "metadata": {},
     "output_type": "execute_result"
    }
   ],
   "source": [
    "job_detail"
   ]
  },
  {
   "cell_type": "code",
   "execution_count": null,
   "id": "78ab042f",
   "metadata": {},
   "outputs": [],
   "source": []
  }
 ],
 "metadata": {
  "kernelspec": {
   "display_name": "min_ds-env2",
   "language": "python",
   "name": "python3"
  },
  "language_info": {
   "codemirror_mode": {
    "name": "ipython",
    "version": 3
   },
   "file_extension": ".py",
   "mimetype": "text/x-python",
   "name": "python",
   "nbconvert_exporter": "python",
   "pygments_lexer": "ipython3",
   "version": "3.10.15"
  }
 },
 "nbformat": 4,
 "nbformat_minor": 5
}
