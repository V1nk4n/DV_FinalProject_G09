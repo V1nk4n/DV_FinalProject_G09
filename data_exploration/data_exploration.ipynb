{
 "cells": [
  {
   "cell_type": "markdown",
   "id": "812f5ce7-0baf-4a52-9588-016d08b02865",
   "metadata": {},
   "source": [
    "# PROJECT DATA VISUALIZATION: EXPLORATION"
   ]
  },
  {
   "cell_type": "markdown",
   "id": "7dbdbb4b-3ff5-4d6b-bf8a-753a51b5b62c",
   "metadata": {},
   "source": [
    "---"
   ]
  },
  {
   "cell_type": "markdown",
   "id": "ecbb1601-f4de-4509-8b35-f4cd47406d7e",
   "metadata": {},
   "source": [
    "## Import các thư viện cần thiết"
   ]
  },
  {
   "cell_type": "code",
   "execution_count": 1,
   "id": "74c6716f-2ad3-4405-b34c-fbf5738158ca",
   "metadata": {},
   "outputs": [],
   "source": [
    "import numpy as np\n",
    "import pandas as pd\n",
    "import seaborn as sns\n",
    "import matplotlib.pyplot as plt\n",
    "import re\n",
    "from sklearn.preprocessing import LabelEncoder"
   ]
  },
  {
   "cell_type": "markdown",
   "id": "b3bdbacd-6180-4857-948e-28c1a0eb7675",
   "metadata": {},
   "source": [
    "---"
   ]
  },
  {
   "cell_type": "markdown",
   "id": "a0f0c0a2-cff5-4603-9ece-380a0274eaf2",
   "metadata": {},
   "source": [
    "## Thông tin chung"
   ]
  },
  {
   "cell_type": "markdown",
   "id": "0fe74936-ac8e-4753-b36f-498fb24fb1c7",
   "metadata": {},
   "source": []
  },
  {
   "cell_type": "markdown",
   "id": "7a3abc7a-e22b-45be-8364-2ec074c32e28",
   "metadata": {},
   "source": [
    "---"
   ]
  },
  {
   "cell_type": "markdown",
   "id": "bb46fe13-dfb0-46fc-9163-cc17bc8f06cf",
   "metadata": {},
   "source": [
    "## Khám phá và tiền xử lý dữ liệu"
   ]
  },
  {
   "cell_type": "markdown",
   "id": "21b53088-a7e2-4bb3-b35d-71682b6ab4ad",
   "metadata": {},
   "source": [
    "### Đọc dữ liệu"
   ]
  },
  {
   "cell_type": "code",
   "execution_count": 2,
   "id": "07f72414-06cb-4523-a837-52510a1b13ae",
   "metadata": {},
   "outputs": [
    {
     "data": {
      "text/html": [
       "<div>\n",
       "<style scoped>\n",
       "    .dataframe tbody tr th:only-of-type {\n",
       "        vertical-align: middle;\n",
       "    }\n",
       "\n",
       "    .dataframe tbody tr th {\n",
       "        vertical-align: top;\n",
       "    }\n",
       "\n",
       "    .dataframe thead th {\n",
       "        text-align: right;\n",
       "    }\n",
       "</style>\n",
       "<table border=\"1\" class=\"dataframe\">\n",
       "  <thead>\n",
       "    <tr style=\"text-align: right;\">\n",
       "      <th></th>\n",
       "      <th>Tên công việc</th>\n",
       "      <th>Địa điểm</th>\n",
       "      <th>Tên công ty</th>\n",
       "      <th>Địa chỉ công ty</th>\n",
       "      <th>Người liên hệ</th>\n",
       "      <th>Qui mô công ty</th>\n",
       "      <th>Loại hình hoạt động</th>\n",
       "      <th>Ngày cập nhật</th>\n",
       "      <th>Ngành nghề</th>\n",
       "      <th>Hình thức</th>\n",
       "      <th>Lương</th>\n",
       "      <th>Kinh nghiệm</th>\n",
       "      <th>Cấp bậc</th>\n",
       "      <th>Hết hạn nộp</th>\n",
       "    </tr>\n",
       "  </thead>\n",
       "  <tbody>\n",
       "    <tr>\n",
       "      <th>0</th>\n",
       "      <td>QC STAFF</td>\n",
       "      <td>[]</td>\n",
       "      <td>NaN</td>\n",
       "      <td>NaN</td>\n",
       "      <td>NaN</td>\n",
       "      <td>NaN</td>\n",
       "      <td>NaN</td>\n",
       "      <td>NaN</td>\n",
       "      <td>NaN</td>\n",
       "      <td>NaN</td>\n",
       "      <td>NaN</td>\n",
       "      <td>NaN</td>\n",
       "      <td>NaN</td>\n",
       "      <td>NaN</td>\n",
       "    </tr>\n",
       "    <tr>\n",
       "      <th>1</th>\n",
       "      <td>Kỹ Thuật Bảo Trì</td>\n",
       "      <td>['Bình Dương']</td>\n",
       "      <td>CÔNG TY TNHH LF LOGISTICS (VIỆT NAM)</td>\n",
       "      <td>Lô số 18 L1-2, Đường số 3, Khu công nghiệp Việ...</td>\n",
       "      <td>HR Department</td>\n",
       "      <td>100-499</td>\n",
       "      <td>100% vốn nước ngoài</td>\n",
       "      <td>09/12/2024</td>\n",
       "      <td>Cơ khí / Ô tô / Tự động hóa , Điện / Điện tử /...</td>\n",
       "      <td>Nhân viên chính thức</td>\n",
       "      <td>Cạnh tranh</td>\n",
       "      <td>1 - 3 Năm</td>\n",
       "      <td>Nhân viên</td>\n",
       "      <td>31/12/2024</td>\n",
       "    </tr>\n",
       "    <tr>\n",
       "      <th>2</th>\n",
       "      <td>NHÂN VIÊN BẢO TRÌ</td>\n",
       "      <td>['Bình Dương']</td>\n",
       "      <td>CÔNG TY TNHH SẢN XUẤT GREAT LOTUS VIỆT NAM</td>\n",
       "      <td>Số 3 VSIP II-A đường số 26, Khu công nghiệp Vi...</td>\n",
       "      <td>CÔNG TY TNHH SẢN XUẤT GREAT LOTUS VIỆT NAM</td>\n",
       "      <td>100-499</td>\n",
       "      <td>100% vốn nước ngoài</td>\n",
       "      <td>09/12/2024</td>\n",
       "      <td>Bảo trì / Sửa chữa</td>\n",
       "      <td>Nhân viên chính thức</td>\n",
       "      <td>13 Tr - 15 Tr VND</td>\n",
       "      <td>3 - 4 Năm</td>\n",
       "      <td>Nhân viên</td>\n",
       "      <td>09/12/2024</td>\n",
       "    </tr>\n",
       "    <tr>\n",
       "      <th>3</th>\n",
       "      <td>HR cum Compliance Manager</td>\n",
       "      <td>['Bình Dương']</td>\n",
       "      <td>CTY TNHH S.H VIET NAM</td>\n",
       "      <td>241 Khu phố Hưng Lộc Phường Hưng Đinh, Tp Thuậ...</td>\n",
       "      <td>Phòng Nhân Sự</td>\n",
       "      <td>500-999</td>\n",
       "      <td>100% vốn nước ngoài</td>\n",
       "      <td>09/12/2024</td>\n",
       "      <td>Quản lý điều hành , Nhân sự , Dệt may / Da già...</td>\n",
       "      <td>Nhân viên chính thức</td>\n",
       "      <td>Cạnh tranh</td>\n",
       "      <td>Lên đến 5 Năm</td>\n",
       "      <td>Quản lý</td>\n",
       "      <td>31/12/2024</td>\n",
       "    </tr>\n",
       "    <tr>\n",
       "      <th>4</th>\n",
       "      <td>CHUYÊN VIÊN TƯ VẤN ĐẦU TƯ CHỨNG KHOÁN KHÁCH HÀ...</td>\n",
       "      <td>['Bình Dương']</td>\n",
       "      <td>VDSC - CÔNG TY CP CHỨNG KHOÁN RỒNG VIỆT</td>\n",
       "      <td>Lầu 4, Tòa nhà Viet Dragon, 141 Nguyễn Du, P. ...</td>\n",
       "      <td>Công ty Cổ phần Chứng khoán Rồng Việt</td>\n",
       "      <td>500-999</td>\n",
       "      <td>Cổ phần</td>\n",
       "      <td>09/12/2024</td>\n",
       "      <td>Ngân hàng , Chứng khoán , Tài chính / Đầu tư</td>\n",
       "      <td>Nhân viên chính thức</td>\n",
       "      <td>7 Tr - 20 Tr VND</td>\n",
       "      <td>NaN</td>\n",
       "      <td>Nhân viên</td>\n",
       "      <td>31/01/2025</td>\n",
       "    </tr>\n",
       "  </tbody>\n",
       "</table>\n",
       "</div>"
      ],
      "text/plain": [
       "                                       Tên công việc        Địa điểm  \\\n",
       "0                                           QC STAFF              []   \n",
       "1                                   Kỹ Thuật Bảo Trì  ['Bình Dương']   \n",
       "2                                  NHÂN VIÊN BẢO TRÌ  ['Bình Dương']   \n",
       "3                          HR cum Compliance Manager  ['Bình Dương']   \n",
       "4  CHUYÊN VIÊN TƯ VẤN ĐẦU TƯ CHỨNG KHOÁN KHÁCH HÀ...  ['Bình Dương']   \n",
       "\n",
       "                                  Tên công ty  \\\n",
       "0                                         NaN   \n",
       "1        CÔNG TY TNHH LF LOGISTICS (VIỆT NAM)   \n",
       "2  CÔNG TY TNHH SẢN XUẤT GREAT LOTUS VIỆT NAM   \n",
       "3                       CTY TNHH S.H VIET NAM   \n",
       "4     VDSC - CÔNG TY CP CHỨNG KHOÁN RỒNG VIỆT   \n",
       "\n",
       "                                     Địa chỉ công ty  \\\n",
       "0                                                NaN   \n",
       "1  Lô số 18 L1-2, Đường số 3, Khu công nghiệp Việ...   \n",
       "2  Số 3 VSIP II-A đường số 26, Khu công nghiệp Vi...   \n",
       "3  241 Khu phố Hưng Lộc Phường Hưng Đinh, Tp Thuậ...   \n",
       "4  Lầu 4, Tòa nhà Viet Dragon, 141 Nguyễn Du, P. ...   \n",
       "\n",
       "                                Người liên hệ Qui mô công ty  \\\n",
       "0                                         NaN            NaN   \n",
       "1                               HR Department        100-499   \n",
       "2  CÔNG TY TNHH SẢN XUẤT GREAT LOTUS VIỆT NAM        100-499   \n",
       "3                               Phòng Nhân Sự        500-999   \n",
       "4       Công ty Cổ phần Chứng khoán Rồng Việt        500-999   \n",
       "\n",
       "   Loại hình hoạt động Ngày cập nhật  \\\n",
       "0                  NaN           NaN   \n",
       "1  100% vốn nước ngoài    09/12/2024   \n",
       "2  100% vốn nước ngoài    09/12/2024   \n",
       "3  100% vốn nước ngoài    09/12/2024   \n",
       "4              Cổ phần    09/12/2024   \n",
       "\n",
       "                                          Ngành nghề             Hình thức  \\\n",
       "0                                                NaN                   NaN   \n",
       "1  Cơ khí / Ô tô / Tự động hóa , Điện / Điện tử /...  Nhân viên chính thức   \n",
       "2                                 Bảo trì / Sửa chữa  Nhân viên chính thức   \n",
       "3  Quản lý điều hành , Nhân sự , Dệt may / Da già...  Nhân viên chính thức   \n",
       "4       Ngân hàng , Chứng khoán , Tài chính / Đầu tư  Nhân viên chính thức   \n",
       "\n",
       "               Lương    Kinh nghiệm    Cấp bậc Hết hạn nộp  \n",
       "0                NaN            NaN        NaN         NaN  \n",
       "1         Cạnh tranh      1 - 3 Năm  Nhân viên  31/12/2024  \n",
       "2  13 Tr - 15 Tr VND      3 - 4 Năm  Nhân viên  09/12/2024  \n",
       "3         Cạnh tranh  Lên đến 5 Năm    Quản lý  31/12/2024  \n",
       "4   7 Tr - 20 Tr VND            NaN  Nhân viên  31/01/2025  "
      ]
     },
     "execution_count": 2,
     "metadata": {},
     "output_type": "execute_result"
    }
   ],
   "source": [
    "raw_df = pd.read_csv(\"../dataset/jobs.csv\")\n",
    "raw_df.head()"
   ]
  },
  {
   "cell_type": "markdown",
   "id": "8ed60a72-df24-42c3-9fe5-c896b90581c8",
   "metadata": {},
   "source": [
    "### Số hàng và số cột của tập dữ liệu"
   ]
  },
  {
   "cell_type": "code",
   "execution_count": 3,
   "id": "03b1cf4b-a799-4197-9a60-708171305337",
   "metadata": {},
   "outputs": [
    {
     "name": "stdout",
     "output_type": "stream",
     "text": [
      "Số hàng của dataset: 20305\n",
      "Số cột của dataset: 14\n"
     ]
    }
   ],
   "source": [
    "nrows, ncols = raw_df.shape\n",
    "print('Số hàng của dataset:', nrows)\n",
    "print('Số cột của dataset:', ncols)"
   ]
  },
  {
   "cell_type": "markdown",
   "id": "71747af8-4199-4146-89a2-24a2e96c6574",
   "metadata": {},
   "source": [
    "### Ý nghĩa của mỗi hàng"
   ]
  },
  {
   "attachments": {},
   "cell_type": "markdown",
   "id": "f675ed13-5b6f-4e6b-ae0f-eb3ad11b33db",
   "metadata": {},
   "source": [
    "Mỗi dòng dữ liệu là một công việc đang cần tìm ứng viên với các mô tả là `Tên công việc`, `Địa điểm`, `Tên công ty`, `Địa chỉ công ty`, `Người liên hệ`, `Qui mô công ty`, `Loại hình hoạt động`, `Ngày cập nhật`, `Ngành nghề`, `Hình thức`, `Lương`, `Kinh nghiệm`, `Cấp bậc`, `Hết hạn nộp`.\n"
   ]
  },
  {
   "cell_type": "markdown",
   "id": "cfde3f24-10dd-48b0-8b76-5e1dac992abd",
   "metadata": {},
   "source": [
    "### Loại bỏ những hàng trùng lặp"
   ]
  },
  {
   "cell_type": "code",
   "execution_count": 4,
   "id": "c9b25373-be34-4d9f-994f-ff179740564b",
   "metadata": {},
   "outputs": [
    {
     "name": "stdout",
     "output_type": "stream",
     "text": [
      "Số hàng trùng lặp: 703\n"
     ]
    }
   ],
   "source": [
    "num_duplicates = raw_df.duplicated().sum()\n",
    "print(f\"Số hàng trùng lặp: {num_duplicates}\")"
   ]
  },
  {
   "cell_type": "code",
   "execution_count": 5,
   "id": "602e9430-e4fb-47a7-b827-14d3b6416e3e",
   "metadata": {},
   "outputs": [],
   "source": [
    "raw_df = raw_df.drop_duplicates()"
   ]
  },
  {
   "cell_type": "code",
   "execution_count": 6,
   "id": "6017d81b-0a47-4773-8c28-44634b208616",
   "metadata": {},
   "outputs": [
    {
     "name": "stdout",
     "output_type": "stream",
     "text": [
      "Số hàng của dataset sau khi xử lý: 19602\n"
     ]
    }
   ],
   "source": [
    "nrows, ncols = raw_df.shape\n",
    "print('Số hàng của dataset sau khi xử lý:', nrows)"
   ]
  },
  {
   "cell_type": "markdown",
   "id": "8f3f3d74-324a-4214-b687-07a8e20e747a",
   "metadata": {},
   "source": [
    "### Loại bỏ những dòng không chứa dữ liệu"
   ]
  },
  {
   "cell_type": "markdown",
   "id": "8b209783-bc3a-4bdb-adb1-3c1281d6cbfb",
   "metadata": {},
   "source": [
    "Những dòng có '[]' ở cột `Địa điểm` thì xóa bỏ."
   ]
  },
  {
   "cell_type": "code",
   "execution_count": 7,
   "id": "d5766dbe-d4f0-4d4b-81f3-e1880004217c",
   "metadata": {},
   "outputs": [],
   "source": [
    "raw_df = raw_df[(raw_df['Địa điểm'] != '[]') & (raw_df['Địa điểm'] != ' ')]\n",
    "raw_df = raw_df[raw_df['Tên công việc'] != ' ']"
   ]
  },
  {
   "cell_type": "code",
   "execution_count": 8,
   "id": "5c06a8ff-5c33-4741-a318-4f88cb137fe8",
   "metadata": {},
   "outputs": [
    {
     "data": {
      "text/plain": [
       "(19154, 14)"
      ]
     },
     "execution_count": 8,
     "metadata": {},
     "output_type": "execute_result"
    }
   ],
   "source": [
    "raw_df.shape"
   ]
  },
  {
   "cell_type": "code",
   "execution_count": 9,
   "id": "8cc860b7-3b0e-41fb-9b72-f720449f10e7",
   "metadata": {},
   "outputs": [
    {
     "data": {
      "text/plain": [
       "Tên công việc             0\n",
       "Địa điểm                  0\n",
       "Tên công ty             961\n",
       "Địa chỉ công ty         963\n",
       "Người liên hệ           961\n",
       "Qui mô công ty         4000\n",
       "Loại hình hoạt động    1596\n",
       "Ngày cập nhật             0\n",
       "Ngành nghề                0\n",
       "Hình thức                 1\n",
       "Lương                     0\n",
       "Kinh nghiệm            3888\n",
       "Cấp bậc                   0\n",
       "Hết hạn nộp               0\n",
       "dtype: int64"
      ]
     },
     "execution_count": 9,
     "metadata": {},
     "output_type": "execute_result"
    }
   ],
   "source": [
    "raw_df.isnull().sum()"
   ]
  },
  {
   "cell_type": "code",
   "execution_count": 10,
   "id": "a8914df3-51c5-4c3d-be0a-3ec0b91d2d9c",
   "metadata": {},
   "outputs": [],
   "source": [
    "# Bỏ những dòng chứa các ô dữ liệu rỗng\n",
    "raw_df = raw_df.dropna(how='any', axis=0)"
   ]
  },
  {
   "cell_type": "code",
   "execution_count": 11,
   "id": "4357fa63-fe52-4d16-9963-b7f9e8405d1a",
   "metadata": {},
   "outputs": [
    {
     "data": {
      "text/plain": [
       "Tên công việc          0\n",
       "Địa điểm               0\n",
       "Tên công ty            0\n",
       "Địa chỉ công ty        0\n",
       "Người liên hệ          0\n",
       "Qui mô công ty         0\n",
       "Loại hình hoạt động    0\n",
       "Ngày cập nhật          0\n",
       "Ngành nghề             0\n",
       "Hình thức              0\n",
       "Lương                  0\n",
       "Kinh nghiệm            0\n",
       "Cấp bậc                0\n",
       "Hết hạn nộp            0\n",
       "dtype: int64"
      ]
     },
     "execution_count": 11,
     "metadata": {},
     "output_type": "execute_result"
    }
   ],
   "source": [
    "raw_df.isnull().sum()"
   ]
  },
  {
   "cell_type": "code",
   "execution_count": 12,
   "id": "258a87ac-7fda-4637-80c2-4627b39135c8",
   "metadata": {},
   "outputs": [
    {
     "data": {
      "text/plain": [
       "(11778, 14)"
      ]
     },
     "execution_count": 12,
     "metadata": {},
     "output_type": "execute_result"
    }
   ],
   "source": [
    "raw_df.shape"
   ]
  },
  {
   "cell_type": "markdown",
   "id": "f08bb953-504e-45c3-b735-d8b5e1ddeab7",
   "metadata": {},
   "source": [
    "### Ý nghĩa của mỗi cột"
   ]
  },
  {
   "cell_type": "code",
   "execution_count": 13,
   "id": "6229ec7d-52b5-459b-8f8d-091e9fad72c9",
   "metadata": {},
   "outputs": [
    {
     "data": {
      "text/plain": [
       "Index(['Tên công việc', 'Địa điểm', 'Tên công ty', 'Địa chỉ công ty',\n",
       "       'Người liên hệ', 'Qui mô công ty', 'Loại hình hoạt động',\n",
       "       'Ngày cập nhật', 'Ngành nghề', 'Hình thức', 'Lương', 'Kinh nghiệm',\n",
       "       'Cấp bậc', 'Hết hạn nộp'],\n",
       "      dtype='object')"
      ]
     },
     "execution_count": 13,
     "metadata": {},
     "output_type": "execute_result"
    }
   ],
   "source": [
    "# Xem tên của từng cột\n",
    "raw_df.columns"
   ]
  },
  {
   "attachments": {},
   "cell_type": "markdown",
   "id": "ae07bacf-339b-430b-b6b6-17b2c3a34bdc",
   "metadata": {},
   "source": [
    "**Ý nghĩa của mỗi cột**:\n",
    "- `Tên công việc`: Tên công việc cần tuyển dụng.\n",
    "- `Địa điểm`: Địa điểm làm việc.\n",
    "- `Tên công ty`: Tên công ty tuyển dụng.\n",
    "- `Địa chỉ công ty`: Địa điểm của công ty tuyển dụng.\n",
    "- `Người liên hệ`: Thông tin người có thể liên hệ hỏi đáp.\n",
    "- `Qui mô công ty`: Qui mô công ty tuyển dụng.\n",
    "- `Loại hình hoạt động`: Loại hình hoạt động của công ty tuyển dụng.\n",
    "- `Ngày cập nhật`: Lần cập nhật gần nhất của thông tin tuyển dụng.\n",
    "- `Ngành nghề`: Lĩnh vực của công việc.\n",
    "- `Hình thức`: Hình thức của công việc ứng tuyển.\n",
    "- `Lương`: Lương sau khi được nhận vào làm.\n",
    "- `Kinh nghiệm`: Yêu cầu năm kinh nghiệm để ứng tuyển.\n",
    "- `Cấp bậc`: Cấp bậc, vị trí việc làm của nhân viên.\n",
    "- `Hết hạn nộp`: Hạn chót ứng tuyển công việc này."
   ]
  },
  {
   "cell_type": "markdown",
   "id": "930c1924-db84-44fe-a8be-43ae297eef65",
   "metadata": {},
   "source": [
    "### Kiểu dữ liệu hiện tại của mỗi cột là gì? Có cột nào có kiểu dữ liệu không phù hợp không?"
   ]
  },
  {
   "cell_type": "code",
   "execution_count": 14,
   "id": "db6a591a-62d2-4da0-b04e-6f29e05297f9",
   "metadata": {},
   "outputs": [
    {
     "name": "stdout",
     "output_type": "stream",
     "text": [
      "<class 'pandas.core.frame.DataFrame'>\n",
      "Int64Index: 11778 entries, 1 to 20304\n",
      "Data columns (total 14 columns):\n",
      " #   Column               Non-Null Count  Dtype \n",
      "---  ------               --------------  ----- \n",
      " 0   Tên công việc        11778 non-null  object\n",
      " 1   Địa điểm             11778 non-null  object\n",
      " 2   Tên công ty          11778 non-null  object\n",
      " 3   Địa chỉ công ty      11778 non-null  object\n",
      " 4   Người liên hệ        11778 non-null  object\n",
      " 5   Qui mô công ty       11778 non-null  object\n",
      " 6   Loại hình hoạt động  11778 non-null  object\n",
      " 7   Ngày cập nhật        11778 non-null  object\n",
      " 8   Ngành nghề           11778 non-null  object\n",
      " 9   Hình thức            11778 non-null  object\n",
      " 10  Lương                11778 non-null  object\n",
      " 11  Kinh nghiệm          11778 non-null  object\n",
      " 12  Cấp bậc              11778 non-null  object\n",
      " 13  Hết hạn nộp          11778 non-null  object\n",
      "dtypes: object(14)\n",
      "memory usage: 1.3+ MB\n"
     ]
    }
   ],
   "source": [
    "# In thông tin của các cột\n",
    "raw_df.info()"
   ]
  },
  {
   "cell_type": "markdown",
   "id": "854e904a-71b2-4d38-91c7-9cc50c7b91b7",
   "metadata": {},
   "source": [
    "Để phân tích về thị trường việc làm ở Việt Nam hiện tại với các thuộc tính trên, ta có thể chia thành 2 loại kiểu dữ liệu:\n",
    "- Kiểu số: `Qui mô công ty`, `Lương`, `Kinh nghiệm`, `Ngày cập nhật`, `Hết hạn nộp`.\n",
    "- Kiểu phân loại: `Tên công việc`, `Địa điểm`, `Tên công ty`, `Địa chỉ công ty`, `Người liên hệ`, `Loại hình hoạt động`, `Ngành nghề`, `Hình thức`, `Cấp bậc`."
   ]
  },
  {
   "cell_type": "markdown",
   "id": "21ffb778-216d-4ad0-9174-de78d65606f3",
   "metadata": {},
   "source": [
    "Để thuận tiện cho việc chuyển kiểu dữ liệu, ta sẽ xem xét từng cột để xử lý kiểu dữ liệu cho phù hợp."
   ]
  },
  {
   "cell_type": "markdown",
   "id": "e6f1fd3f-e469-45ce-b9ae-c9a0fbec5e37",
   "metadata": {},
   "source": [
    "**`Tên công việc`**"
   ]
  },
  {
   "cell_type": "markdown",
   "id": "f1c54e43-6292-4ea3-a641-88a0ea3586c9",
   "metadata": {},
   "source": [
    "Xử lý chuỗi"
   ]
  },
  {
   "cell_type": "code",
   "execution_count": null,
   "id": "7dbe61a8-e4c5-4238-a4fe-23e291adf6a9",
   "metadata": {},
   "outputs": [],
   "source": []
  },
  {
   "cell_type": "markdown",
   "id": "6eb61fef-49ef-4aba-a4d2-aa92d0549db0",
   "metadata": {},
   "source": [
    "**`Địa điểm`**"
   ]
  },
  {
   "cell_type": "markdown",
   "id": "660a6e92-0ba1-4106-87e6-27b6fb97d831",
   "metadata": {},
   "source": [
    "One-hot coding"
   ]
  },
  {
   "cell_type": "code",
   "execution_count": null,
   "id": "84a53d74-cbd4-423c-a94f-5a3e461bf7a7",
   "metadata": {},
   "outputs": [],
   "source": []
  },
  {
   "cell_type": "markdown",
   "id": "4a9939c7-2a3c-4c41-9902-37ee247f43f9",
   "metadata": {},
   "source": [
    "**`Tên công ty`**"
   ]
  },
  {
   "cell_type": "markdown",
   "id": "3d8f041b-2629-4027-bf47-f667a6670cf2",
   "metadata": {},
   "source": [
    "Ổn"
   ]
  },
  {
   "cell_type": "markdown",
   "id": "a3a8dd1f-16b2-4eaa-9d72-069c03e25d8f",
   "metadata": {},
   "source": [
    "**`Địa điểm công ty`**"
   ]
  },
  {
   "cell_type": "code",
   "execution_count": null,
   "id": "e91aadba-405b-41b7-a376-4aa3450d8945",
   "metadata": {},
   "outputs": [],
   "source": []
  },
  {
   "cell_type": "code",
   "execution_count": null,
   "id": "17e037d4-8339-49bc-9b9e-f530cde0c24c",
   "metadata": {},
   "outputs": [],
   "source": []
  },
  {
   "cell_type": "markdown",
   "id": "b25265d4-c1bc-4bde-85bf-93ffe1cc9670",
   "metadata": {},
   "source": [
    "**`Người liên hệ`**"
   ]
  },
  {
   "cell_type": "markdown",
   "id": "6b8fb93e-8cca-4509-887d-3cee66067606",
   "metadata": {},
   "source": [
    "Ổn"
   ]
  },
  {
   "cell_type": "markdown",
   "id": "fde5b2ce-fd81-4d75-99e4-c67aa797be4f",
   "metadata": {},
   "source": [
    "**`Qui mô công ty`**"
   ]
  },
  {
   "cell_type": "markdown",
   "id": "fc605237-234c-47d3-be1a-4af192c48ea5",
   "metadata": {},
   "source": [
    "- 100 - 499, ít hơn 10 -> phân loại siêu nhỏ, nhỏ, vừa, lớn, siêu lớn\n",
    "- Ngày tháng năm -> bỏ"
   ]
  },
  {
   "cell_type": "code",
   "execution_count": 15,
   "id": "106e3329-5a43-48f1-9076-d29007bc337d",
   "metadata": {},
   "outputs": [],
   "source": [
    "# Tách giá trị lớn nhất từ cột \"Qui mô công ty\"\n",
    "raw_df['Max qui mô'] = raw_df['Qui mô công ty'].str.extract(r'(\\d+)(?:\\+|-?\\d+)?$').astype(float)\n",
    "\n",
    "# Phân loại theo mức độ\n",
    "def classify_size(value):\n",
    "    if value < 10:\n",
    "        return 'Siêu nhỏ'\n",
    "    elif value < 100:\n",
    "        return 'Nhỏ'\n",
    "    elif value < 200:\n",
    "        return 'Vừa'\n",
    "    elif value < 1000:\n",
    "        return 'Lớn'\n",
    "    else:\n",
    "        return 'Siêu lớn'\n",
    "\n",
    "# Áp dụng phân loại\n",
    "raw_df['Quy mô công ty'] = raw_df['Max qui mô'].apply(classify_size)\n",
    "\n",
    "# Xóa cột 'Max Qui mô' khỏi DataFrame\n",
    "raw_df = raw_df.drop(columns=['Max qui mô'])"
   ]
  },
  {
   "cell_type": "code",
   "execution_count": 16,
   "id": "7cab24e6-a551-4a79-9fc0-c9b30e1e7583",
   "metadata": {},
   "outputs": [
    {
     "data": {
      "text/plain": [
       "(11778, 15)"
      ]
     },
     "execution_count": 16,
     "metadata": {},
     "output_type": "execute_result"
    }
   ],
   "source": [
    "raw_df.shape"
   ]
  },
  {
   "cell_type": "code",
   "execution_count": 17,
   "id": "f1f86aaa-3fca-41f4-b63a-dfb13981538d",
   "metadata": {},
   "outputs": [
    {
     "data": {
      "text/plain": [
       "Lớn         5090\n",
       "Vừa         3764\n",
       "Nhỏ         2536\n",
       "Siêu lớn     340\n",
       "Siêu nhỏ      48\n",
       "Name: Quy mô công ty, dtype: int64"
      ]
     },
     "execution_count": 17,
     "metadata": {},
     "output_type": "execute_result"
    }
   ],
   "source": [
    "# Tính số lượng từng giá trị\n",
    "count_values = raw_df['Quy mô công ty'].value_counts()\n",
    "count_values"
   ]
  },
  {
   "cell_type": "code",
   "execution_count": 18,
   "id": "1be71c2f-d161-4aa1-9121-cdbd430d5cbe",
   "metadata": {},
   "outputs": [
    {
     "data": {
      "text/html": [
       "<div>\n",
       "<style scoped>\n",
       "    .dataframe tbody tr th:only-of-type {\n",
       "        vertical-align: middle;\n",
       "    }\n",
       "\n",
       "    .dataframe tbody tr th {\n",
       "        vertical-align: top;\n",
       "    }\n",
       "\n",
       "    .dataframe thead th {\n",
       "        text-align: right;\n",
       "    }\n",
       "</style>\n",
       "<table border=\"1\" class=\"dataframe\">\n",
       "  <thead>\n",
       "    <tr style=\"text-align: right;\">\n",
       "      <th></th>\n",
       "      <th>Tên công việc</th>\n",
       "      <th>Địa điểm</th>\n",
       "      <th>Tên công ty</th>\n",
       "      <th>Địa chỉ công ty</th>\n",
       "      <th>Người liên hệ</th>\n",
       "      <th>Qui mô công ty</th>\n",
       "      <th>Loại hình hoạt động</th>\n",
       "      <th>Ngày cập nhật</th>\n",
       "      <th>Ngành nghề</th>\n",
       "      <th>Hình thức</th>\n",
       "      <th>Lương</th>\n",
       "      <th>Kinh nghiệm</th>\n",
       "      <th>Cấp bậc</th>\n",
       "      <th>Hết hạn nộp</th>\n",
       "      <th>Quy mô công ty</th>\n",
       "    </tr>\n",
       "  </thead>\n",
       "  <tbody>\n",
       "    <tr>\n",
       "      <th>1</th>\n",
       "      <td>Kỹ Thuật Bảo Trì</td>\n",
       "      <td>['Bình Dương']</td>\n",
       "      <td>CÔNG TY TNHH LF LOGISTICS (VIỆT NAM)</td>\n",
       "      <td>Lô số 18 L1-2, Đường số 3, Khu công nghiệp Việ...</td>\n",
       "      <td>HR Department</td>\n",
       "      <td>100-499</td>\n",
       "      <td>100% vốn nước ngoài</td>\n",
       "      <td>09/12/2024</td>\n",
       "      <td>Cơ khí / Ô tô / Tự động hóa , Điện / Điện tử /...</td>\n",
       "      <td>Nhân viên chính thức</td>\n",
       "      <td>Cạnh tranh</td>\n",
       "      <td>1 - 3 Năm</td>\n",
       "      <td>Nhân viên</td>\n",
       "      <td>31/12/2024</td>\n",
       "      <td>Vừa</td>\n",
       "    </tr>\n",
       "    <tr>\n",
       "      <th>2</th>\n",
       "      <td>NHÂN VIÊN BẢO TRÌ</td>\n",
       "      <td>['Bình Dương']</td>\n",
       "      <td>CÔNG TY TNHH SẢN XUẤT GREAT LOTUS VIỆT NAM</td>\n",
       "      <td>Số 3 VSIP II-A đường số 26, Khu công nghiệp Vi...</td>\n",
       "      <td>CÔNG TY TNHH SẢN XUẤT GREAT LOTUS VIỆT NAM</td>\n",
       "      <td>100-499</td>\n",
       "      <td>100% vốn nước ngoài</td>\n",
       "      <td>09/12/2024</td>\n",
       "      <td>Bảo trì / Sửa chữa</td>\n",
       "      <td>Nhân viên chính thức</td>\n",
       "      <td>13 Tr - 15 Tr VND</td>\n",
       "      <td>3 - 4 Năm</td>\n",
       "      <td>Nhân viên</td>\n",
       "      <td>09/12/2024</td>\n",
       "      <td>Vừa</td>\n",
       "    </tr>\n",
       "    <tr>\n",
       "      <th>3</th>\n",
       "      <td>HR cum Compliance Manager</td>\n",
       "      <td>['Bình Dương']</td>\n",
       "      <td>CTY TNHH S.H VIET NAM</td>\n",
       "      <td>241 Khu phố Hưng Lộc Phường Hưng Đinh, Tp Thuậ...</td>\n",
       "      <td>Phòng Nhân Sự</td>\n",
       "      <td>500-999</td>\n",
       "      <td>100% vốn nước ngoài</td>\n",
       "      <td>09/12/2024</td>\n",
       "      <td>Quản lý điều hành , Nhân sự , Dệt may / Da già...</td>\n",
       "      <td>Nhân viên chính thức</td>\n",
       "      <td>Cạnh tranh</td>\n",
       "      <td>Lên đến 5 Năm</td>\n",
       "      <td>Quản lý</td>\n",
       "      <td>31/12/2024</td>\n",
       "      <td>Lớn</td>\n",
       "    </tr>\n",
       "    <tr>\n",
       "      <th>5</th>\n",
       "      <td>Giám sát kho</td>\n",
       "      <td>['Bình Dương']</td>\n",
       "      <td>CÔNG TY AVANTI - GROUP</td>\n",
       "      <td>Tầng 18, Tòa nhà Bitexco,Phường Bến Nghé, Quận...</td>\n",
       "      <td>Ms. Hoa</td>\n",
       "      <td>100-499</td>\n",
       "      <td>Trách nhiệm hữu hạn</td>\n",
       "      <td>09/12/2024</td>\n",
       "      <td>Vận chuyển / Giao nhận / Kho vận</td>\n",
       "      <td>Nhân viên chính thức</td>\n",
       "      <td>15 Tr - 18 Tr VND</td>\n",
       "      <td>3 - 5 Năm</td>\n",
       "      <td>Trưởng nhóm / Giám sát</td>\n",
       "      <td>09/01/2025</td>\n",
       "      <td>Vừa</td>\n",
       "    </tr>\n",
       "    <tr>\n",
       "      <th>7</th>\n",
       "      <td>NHÂN VIÊN SÁNG TẠO NỘI DUNG (LÀM VIỆC Ở DĨ AN,...</td>\n",
       "      <td>['Bình Dương']</td>\n",
       "      <td>CÔNG TY CỔ PHẦN SẢN XUẤT, THƯƠNG MẠI VÀ DỊCH V...</td>\n",
       "      <td>P26.01 - Tòa nhà TTTM và Căn hộ Xa la - Phường...</td>\n",
       "      <td>P. HCNS</td>\n",
       "      <td>100-499</td>\n",
       "      <td>Cổ phần</td>\n",
       "      <td>09/12/2024</td>\n",
       "      <td>Tiếp thị / Marketing , Bán hàng / Kinh doanh ,...</td>\n",
       "      <td>Nhân viên chính thức</td>\n",
       "      <td>8 Tr - 15 Tr VND</td>\n",
       "      <td>1 - 2 Năm</td>\n",
       "      <td>Nhân viên</td>\n",
       "      <td>31/12/2024</td>\n",
       "      <td>Vừa</td>\n",
       "    </tr>\n",
       "  </tbody>\n",
       "</table>\n",
       "</div>"
      ],
      "text/plain": [
       "                                       Tên công việc        Địa điểm  \\\n",
       "1                                   Kỹ Thuật Bảo Trì  ['Bình Dương']   \n",
       "2                                  NHÂN VIÊN BẢO TRÌ  ['Bình Dương']   \n",
       "3                          HR cum Compliance Manager  ['Bình Dương']   \n",
       "5                                       Giám sát kho  ['Bình Dương']   \n",
       "7  NHÂN VIÊN SÁNG TẠO NỘI DUNG (LÀM VIỆC Ở DĨ AN,...  ['Bình Dương']   \n",
       "\n",
       "                                         Tên công ty  \\\n",
       "1               CÔNG TY TNHH LF LOGISTICS (VIỆT NAM)   \n",
       "2         CÔNG TY TNHH SẢN XUẤT GREAT LOTUS VIỆT NAM   \n",
       "3                              CTY TNHH S.H VIET NAM   \n",
       "5                             CÔNG TY AVANTI - GROUP   \n",
       "7  CÔNG TY CỔ PHẦN SẢN XUẤT, THƯƠNG MẠI VÀ DỊCH V...   \n",
       "\n",
       "                                     Địa chỉ công ty  \\\n",
       "1  Lô số 18 L1-2, Đường số 3, Khu công nghiệp Việ...   \n",
       "2  Số 3 VSIP II-A đường số 26, Khu công nghiệp Vi...   \n",
       "3  241 Khu phố Hưng Lộc Phường Hưng Đinh, Tp Thuậ...   \n",
       "5  Tầng 18, Tòa nhà Bitexco,Phường Bến Nghé, Quận...   \n",
       "7  P26.01 - Tòa nhà TTTM và Căn hộ Xa la - Phường...   \n",
       "\n",
       "                                Người liên hệ Qui mô công ty  \\\n",
       "1                               HR Department        100-499   \n",
       "2  CÔNG TY TNHH SẢN XUẤT GREAT LOTUS VIỆT NAM        100-499   \n",
       "3                               Phòng Nhân Sự        500-999   \n",
       "5                                     Ms. Hoa        100-499   \n",
       "7                                     P. HCNS        100-499   \n",
       "\n",
       "   Loại hình hoạt động Ngày cập nhật  \\\n",
       "1  100% vốn nước ngoài    09/12/2024   \n",
       "2  100% vốn nước ngoài    09/12/2024   \n",
       "3  100% vốn nước ngoài    09/12/2024   \n",
       "5  Trách nhiệm hữu hạn    09/12/2024   \n",
       "7              Cổ phần    09/12/2024   \n",
       "\n",
       "                                          Ngành nghề             Hình thức  \\\n",
       "1  Cơ khí / Ô tô / Tự động hóa , Điện / Điện tử /...  Nhân viên chính thức   \n",
       "2                                 Bảo trì / Sửa chữa  Nhân viên chính thức   \n",
       "3  Quản lý điều hành , Nhân sự , Dệt may / Da già...  Nhân viên chính thức   \n",
       "5                   Vận chuyển / Giao nhận / Kho vận  Nhân viên chính thức   \n",
       "7  Tiếp thị / Marketing , Bán hàng / Kinh doanh ,...  Nhân viên chính thức   \n",
       "\n",
       "               Lương    Kinh nghiệm                 Cấp bậc Hết hạn nộp  \\\n",
       "1         Cạnh tranh      1 - 3 Năm               Nhân viên  31/12/2024   \n",
       "2  13 Tr - 15 Tr VND      3 - 4 Năm               Nhân viên  09/12/2024   \n",
       "3         Cạnh tranh  Lên đến 5 Năm                 Quản lý  31/12/2024   \n",
       "5  15 Tr - 18 Tr VND      3 - 5 Năm  Trưởng nhóm / Giám sát  09/01/2025   \n",
       "7   8 Tr - 15 Tr VND      1 - 2 Năm               Nhân viên  31/12/2024   \n",
       "\n",
       "  Quy mô công ty  \n",
       "1            Vừa  \n",
       "2            Vừa  \n",
       "3            Lớn  \n",
       "5            Vừa  \n",
       "7            Vừa  "
      ]
     },
     "execution_count": 18,
     "metadata": {},
     "output_type": "execute_result"
    }
   ],
   "source": [
    "raw_df.head()"
   ]
  },
  {
   "cell_type": "markdown",
   "id": "c05c772c-236a-44b9-9597-25906b109a81",
   "metadata": {},
   "source": [
    "**`Loại hình hoạt động`**"
   ]
  },
  {
   "cell_type": "markdown",
   "id": "607bd136-269f-4b22-a19a-d12d6c397946",
   "metadata": {},
   "source": [
    "Ổn"
   ]
  },
  {
   "cell_type": "markdown",
   "id": "c953891c-ce93-4e03-be98-d3b6112493dc",
   "metadata": {},
   "source": [
    "**`Ngày cập nhật`**"
   ]
  },
  {
   "cell_type": "markdown",
   "id": "ad94cb65-2c17-4966-955f-c08fb047fb28",
   "metadata": {},
   "source": [
    "Chuyển kiểu datetime"
   ]
  },
  {
   "cell_type": "code",
   "execution_count": 19,
   "id": "fdccb832-4368-40cb-bbb3-a857c08fffa9",
   "metadata": {},
   "outputs": [],
   "source": [
    "raw_df['Ngày cập nhật'] = pd.to_datetime(raw_df['Ngày cập nhật'],  format='%d/%m/%Y', errors='coerce')"
   ]
  },
  {
   "cell_type": "markdown",
   "id": "a3dac004-797a-4e4b-988d-1a784044e706",
   "metadata": {},
   "source": [
    "**`Ngành nghề`**"
   ]
  },
  {
   "cell_type": "markdown",
   "id": "5dcf919e-c01d-437a-a1c0-5ecc4a891435",
   "metadata": {},
   "source": [
    "One-hot coding"
   ]
  },
  {
   "cell_type": "code",
   "execution_count": null,
   "id": "998c696f-3302-4d17-b4ae-e1c8159e8807",
   "metadata": {},
   "outputs": [],
   "source": []
  },
  {
   "cell_type": "markdown",
   "id": "8655bde7-a090-4e91-8017-ff77afabb275",
   "metadata": {},
   "source": [
    "**`Hình thức`**"
   ]
  },
  {
   "cell_type": "markdown",
   "id": "0b81017b-c3ee-478e-a3be-1a84c118af3a",
   "metadata": {},
   "source": [
    "Ổn"
   ]
  },
  {
   "cell_type": "markdown",
   "id": "4dbf4cf8-ee11-4176-bccd-e2b918b9ccc6",
   "metadata": {},
   "source": [
    "**`Lương`**"
   ]
  },
  {
   "cell_type": "markdown",
   "id": "dfb2b69c",
   "metadata": {},
   "source": [
    "- Cạnh tranh ->  mã hóa -1\n",
    "- 15 tr - 20 tr -> thành 2 cột `Lương tối thiểu` và `Lương tối đa`\n",
    "- Chuyển sang VND"
   ]
  },
  {
   "cell_type": "code",
   "execution_count": 20,
   "id": "7dc2f8a7-00ce-4460-9f1d-de4e4b19a623",
   "metadata": {},
   "outputs": [],
   "source": [
    "def process_salary(salary):\n",
    "    salary = str(salary).lower().strip()  # Chuyển về chữ thường và loại bỏ khoảng trắng\n",
    "\n",
    "    # Tách giá trị trước và sau dấu '-'\n",
    "    parts = re.split(r' - ', salary)\n",
    "    \n",
    "    if len(parts) == 2:\n",
    "        min_val, max_val = parts\n",
    "        \n",
    "        if 'vnd' in max_val.lower():\n",
    "            if 'tr' not in min_val.lower() and 'tr' in max_val.lower():\n",
    "                max_val_parts = re.findall(r'[\\d,.]+', max_val)\n",
    "                min_val_parts = re.findall(r'[\\d,.]+', min_val)\n",
    "                \n",
    "                if max_val_parts and min_val_parts:\n",
    "                    min_value = float(min_val_parts[0].replace(',', ''))\n",
    "                    max_value = float(max_val_parts[0].replace(',', '.'))\n",
    "                    \n",
    "                    min_value /= 1e6\n",
    "                    min_value = round(min_value, 1)\n",
    "                    \n",
    "                    return f\"{min_value} Tr - {max_value} Tr VND\"\n",
    "    return salary\n",
    "\n",
    "raw_df['Lương xử lý'] = raw_df['Lương'].apply(process_salary)"
   ]
  },
  {
   "cell_type": "code",
   "execution_count": 21,
   "id": "498b6bb4-4c37-410a-94e2-8b742bf5347c",
   "metadata": {},
   "outputs": [],
   "source": [
    "# Tỷ giá USD sang VND (có thể thay đổi nếu cần)\n",
    "usd_to_vnd_rate = 24000\n",
    "\n",
    "# Hàm chuẩn hóa và tách lương\n",
    "# Hàm chuẩn hóa và tách lương\n",
    "def split_salary_vnd_usd(salary):\n",
    "    # Chuẩn hóa dữ liệu\n",
    "    salary = salary.lower().strip()\n",
    "    \n",
    "    # Loại bỏ ký tự không liên quan và thay dấu phẩy thành dấu chấm\n",
    "    salary_cleaned = re.sub(r'[^\\d\\-, ]', '', salary).replace(',', '.')\n",
    "    \n",
    "    # Trường hợp lương cạnh tranh\n",
    "    if 'cạnh tranh' in salary:\n",
    "        return -1, -1\n",
    "\n",
    "    # Trường hợp lương USD\n",
    "    if 'usd' in salary:\n",
    "        # Tách giá trị và chuyển đổi sang VND\n",
    "        usd_range = re.findall(r'\\d+', salary.replace(',', ''))  # Loại bỏ dấu phẩy và lấy số\n",
    "        if len(usd_range) == 2:  # Khoảng lương\n",
    "            min_usd = int(usd_range[0]) * usd_to_vnd_rate\n",
    "            max_usd = int(usd_range[1]) * usd_to_vnd_rate\n",
    "            return min_usd, max_usd\n",
    "        elif len(usd_range) == 1:  # Lương cố định\n",
    "            fixed_usd = int(usd_range[0]) * usd_to_vnd_rate\n",
    "            return fixed_usd, fixed_usd\n",
    "\n",
    "    # Trường hợp lương VND\n",
    "    if '-' in salary_cleaned:\n",
    "        min_salary, max_salary = salary_cleaned.split('-')\n",
    "        return float(min_salary.replace('tr', '').strip()) * 1e6, float(max_salary.replace('tr', '').strip()) * 1e6\n",
    "    elif 'lên đến' in salary:\n",
    "        max_salary = re.search(r'\\d+', salary).group()\n",
    "        return -1, float(max_salary.replace('tr', '').strip()) * 1e6\n",
    "    else:\n",
    "        fixed_salary = re.search(r'\\d+', salary_cleaned)\n",
    "        if fixed_salary:\n",
    "            return float(fixed_salary.group()) * 1e6, float(fixed_salary.group()) * 1e6\n",
    "        return -1, -1"
   ]
  },
  {
   "cell_type": "code",
   "execution_count": 22,
   "id": "e19b480e-ea1a-40a8-837a-896061475122",
   "metadata": {},
   "outputs": [],
   "source": [
    "# Áp dụng hàm xử lý\n",
    "raw_df[['Lương tối thiểu (VND)', 'Lương tối đa (VND)']] = raw_df['Lương xử lý'].apply(split_salary_vnd_usd).tolist()\n",
    "raw_df.drop('Lương xử lý', axis=1, inplace=True)"
   ]
  },
  {
   "cell_type": "code",
   "execution_count": 23,
   "id": "54444a0f-65d0-476c-8b7f-025b949896e3",
   "metadata": {},
   "outputs": [
    {
     "data": {
      "text/plain": [
       "168000000.0"
      ]
     },
     "execution_count": 23,
     "metadata": {},
     "output_type": "execute_result"
    }
   ],
   "source": [
    "raw_df['Lương tối thiểu (VND)'].max()"
   ]
  },
  {
   "cell_type": "code",
   "execution_count": 24,
   "id": "e6fd51a7-ceff-4fe4-85a2-62664d4b6de0",
   "metadata": {},
   "outputs": [
    {
     "data": {
      "text/plain": [
       "300000000.0"
      ]
     },
     "execution_count": 24,
     "metadata": {},
     "output_type": "execute_result"
    }
   ],
   "source": [
    "raw_df['Lương tối đa (VND)'].max()"
   ]
  },
  {
   "cell_type": "code",
   "execution_count": 25,
   "id": "2c46a28b",
   "metadata": {},
   "outputs": [
    {
     "data": {
      "text/html": [
       "<div>\n",
       "<style scoped>\n",
       "    .dataframe tbody tr th:only-of-type {\n",
       "        vertical-align: middle;\n",
       "    }\n",
       "\n",
       "    .dataframe tbody tr th {\n",
       "        vertical-align: top;\n",
       "    }\n",
       "\n",
       "    .dataframe thead th {\n",
       "        text-align: right;\n",
       "    }\n",
       "</style>\n",
       "<table border=\"1\" class=\"dataframe\">\n",
       "  <thead>\n",
       "    <tr style=\"text-align: right;\">\n",
       "      <th></th>\n",
       "      <th>Tên công việc</th>\n",
       "      <th>Địa điểm</th>\n",
       "      <th>Tên công ty</th>\n",
       "      <th>Địa chỉ công ty</th>\n",
       "      <th>Người liên hệ</th>\n",
       "      <th>Qui mô công ty</th>\n",
       "      <th>Loại hình hoạt động</th>\n",
       "      <th>Ngày cập nhật</th>\n",
       "      <th>Ngành nghề</th>\n",
       "      <th>Hình thức</th>\n",
       "      <th>Lương</th>\n",
       "      <th>Kinh nghiệm</th>\n",
       "      <th>Cấp bậc</th>\n",
       "      <th>Hết hạn nộp</th>\n",
       "      <th>Quy mô công ty</th>\n",
       "      <th>Lương tối thiểu (VND)</th>\n",
       "      <th>Lương tối đa (VND)</th>\n",
       "    </tr>\n",
       "  </thead>\n",
       "  <tbody>\n",
       "    <tr>\n",
       "      <th>1</th>\n",
       "      <td>Kỹ Thuật Bảo Trì</td>\n",
       "      <td>['Bình Dương']</td>\n",
       "      <td>CÔNG TY TNHH LF LOGISTICS (VIỆT NAM)</td>\n",
       "      <td>Lô số 18 L1-2, Đường số 3, Khu công nghiệp Việ...</td>\n",
       "      <td>HR Department</td>\n",
       "      <td>100-499</td>\n",
       "      <td>100% vốn nước ngoài</td>\n",
       "      <td>2024-12-09</td>\n",
       "      <td>Cơ khí / Ô tô / Tự động hóa , Điện / Điện tử /...</td>\n",
       "      <td>Nhân viên chính thức</td>\n",
       "      <td>Cạnh tranh</td>\n",
       "      <td>1 - 3 Năm</td>\n",
       "      <td>Nhân viên</td>\n",
       "      <td>31/12/2024</td>\n",
       "      <td>Vừa</td>\n",
       "      <td>-1.0</td>\n",
       "      <td>-1.0</td>\n",
       "    </tr>\n",
       "    <tr>\n",
       "      <th>2</th>\n",
       "      <td>NHÂN VIÊN BẢO TRÌ</td>\n",
       "      <td>['Bình Dương']</td>\n",
       "      <td>CÔNG TY TNHH SẢN XUẤT GREAT LOTUS VIỆT NAM</td>\n",
       "      <td>Số 3 VSIP II-A đường số 26, Khu công nghiệp Vi...</td>\n",
       "      <td>CÔNG TY TNHH SẢN XUẤT GREAT LOTUS VIỆT NAM</td>\n",
       "      <td>100-499</td>\n",
       "      <td>100% vốn nước ngoài</td>\n",
       "      <td>2024-12-09</td>\n",
       "      <td>Bảo trì / Sửa chữa</td>\n",
       "      <td>Nhân viên chính thức</td>\n",
       "      <td>13 Tr - 15 Tr VND</td>\n",
       "      <td>3 - 4 Năm</td>\n",
       "      <td>Nhân viên</td>\n",
       "      <td>09/12/2024</td>\n",
       "      <td>Vừa</td>\n",
       "      <td>13000000.0</td>\n",
       "      <td>15000000.0</td>\n",
       "    </tr>\n",
       "    <tr>\n",
       "      <th>3</th>\n",
       "      <td>HR cum Compliance Manager</td>\n",
       "      <td>['Bình Dương']</td>\n",
       "      <td>CTY TNHH S.H VIET NAM</td>\n",
       "      <td>241 Khu phố Hưng Lộc Phường Hưng Đinh, Tp Thuậ...</td>\n",
       "      <td>Phòng Nhân Sự</td>\n",
       "      <td>500-999</td>\n",
       "      <td>100% vốn nước ngoài</td>\n",
       "      <td>2024-12-09</td>\n",
       "      <td>Quản lý điều hành , Nhân sự , Dệt may / Da già...</td>\n",
       "      <td>Nhân viên chính thức</td>\n",
       "      <td>Cạnh tranh</td>\n",
       "      <td>Lên đến 5 Năm</td>\n",
       "      <td>Quản lý</td>\n",
       "      <td>31/12/2024</td>\n",
       "      <td>Lớn</td>\n",
       "      <td>-1.0</td>\n",
       "      <td>-1.0</td>\n",
       "    </tr>\n",
       "    <tr>\n",
       "      <th>5</th>\n",
       "      <td>Giám sát kho</td>\n",
       "      <td>['Bình Dương']</td>\n",
       "      <td>CÔNG TY AVANTI - GROUP</td>\n",
       "      <td>Tầng 18, Tòa nhà Bitexco,Phường Bến Nghé, Quận...</td>\n",
       "      <td>Ms. Hoa</td>\n",
       "      <td>100-499</td>\n",
       "      <td>Trách nhiệm hữu hạn</td>\n",
       "      <td>2024-12-09</td>\n",
       "      <td>Vận chuyển / Giao nhận / Kho vận</td>\n",
       "      <td>Nhân viên chính thức</td>\n",
       "      <td>15 Tr - 18 Tr VND</td>\n",
       "      <td>3 - 5 Năm</td>\n",
       "      <td>Trưởng nhóm / Giám sát</td>\n",
       "      <td>09/01/2025</td>\n",
       "      <td>Vừa</td>\n",
       "      <td>15000000.0</td>\n",
       "      <td>18000000.0</td>\n",
       "    </tr>\n",
       "    <tr>\n",
       "      <th>7</th>\n",
       "      <td>NHÂN VIÊN SÁNG TẠO NỘI DUNG (LÀM VIỆC Ở DĨ AN,...</td>\n",
       "      <td>['Bình Dương']</td>\n",
       "      <td>CÔNG TY CỔ PHẦN SẢN XUẤT, THƯƠNG MẠI VÀ DỊCH V...</td>\n",
       "      <td>P26.01 - Tòa nhà TTTM và Căn hộ Xa la - Phường...</td>\n",
       "      <td>P. HCNS</td>\n",
       "      <td>100-499</td>\n",
       "      <td>Cổ phần</td>\n",
       "      <td>2024-12-09</td>\n",
       "      <td>Tiếp thị / Marketing , Bán hàng / Kinh doanh ,...</td>\n",
       "      <td>Nhân viên chính thức</td>\n",
       "      <td>8 Tr - 15 Tr VND</td>\n",
       "      <td>1 - 2 Năm</td>\n",
       "      <td>Nhân viên</td>\n",
       "      <td>31/12/2024</td>\n",
       "      <td>Vừa</td>\n",
       "      <td>8000000.0</td>\n",
       "      <td>15000000.0</td>\n",
       "    </tr>\n",
       "  </tbody>\n",
       "</table>\n",
       "</div>"
      ],
      "text/plain": [
       "                                       Tên công việc        Địa điểm  \\\n",
       "1                                   Kỹ Thuật Bảo Trì  ['Bình Dương']   \n",
       "2                                  NHÂN VIÊN BẢO TRÌ  ['Bình Dương']   \n",
       "3                          HR cum Compliance Manager  ['Bình Dương']   \n",
       "5                                       Giám sát kho  ['Bình Dương']   \n",
       "7  NHÂN VIÊN SÁNG TẠO NỘI DUNG (LÀM VIỆC Ở DĨ AN,...  ['Bình Dương']   \n",
       "\n",
       "                                         Tên công ty  \\\n",
       "1               CÔNG TY TNHH LF LOGISTICS (VIỆT NAM)   \n",
       "2         CÔNG TY TNHH SẢN XUẤT GREAT LOTUS VIỆT NAM   \n",
       "3                              CTY TNHH S.H VIET NAM   \n",
       "5                             CÔNG TY AVANTI - GROUP   \n",
       "7  CÔNG TY CỔ PHẦN SẢN XUẤT, THƯƠNG MẠI VÀ DỊCH V...   \n",
       "\n",
       "                                     Địa chỉ công ty  \\\n",
       "1  Lô số 18 L1-2, Đường số 3, Khu công nghiệp Việ...   \n",
       "2  Số 3 VSIP II-A đường số 26, Khu công nghiệp Vi...   \n",
       "3  241 Khu phố Hưng Lộc Phường Hưng Đinh, Tp Thuậ...   \n",
       "5  Tầng 18, Tòa nhà Bitexco,Phường Bến Nghé, Quận...   \n",
       "7  P26.01 - Tòa nhà TTTM và Căn hộ Xa la - Phường...   \n",
       "\n",
       "                                Người liên hệ Qui mô công ty  \\\n",
       "1                               HR Department        100-499   \n",
       "2  CÔNG TY TNHH SẢN XUẤT GREAT LOTUS VIỆT NAM        100-499   \n",
       "3                               Phòng Nhân Sự        500-999   \n",
       "5                                     Ms. Hoa        100-499   \n",
       "7                                     P. HCNS        100-499   \n",
       "\n",
       "   Loại hình hoạt động Ngày cập nhật  \\\n",
       "1  100% vốn nước ngoài    2024-12-09   \n",
       "2  100% vốn nước ngoài    2024-12-09   \n",
       "3  100% vốn nước ngoài    2024-12-09   \n",
       "5  Trách nhiệm hữu hạn    2024-12-09   \n",
       "7              Cổ phần    2024-12-09   \n",
       "\n",
       "                                          Ngành nghề             Hình thức  \\\n",
       "1  Cơ khí / Ô tô / Tự động hóa , Điện / Điện tử /...  Nhân viên chính thức   \n",
       "2                                 Bảo trì / Sửa chữa  Nhân viên chính thức   \n",
       "3  Quản lý điều hành , Nhân sự , Dệt may / Da già...  Nhân viên chính thức   \n",
       "5                   Vận chuyển / Giao nhận / Kho vận  Nhân viên chính thức   \n",
       "7  Tiếp thị / Marketing , Bán hàng / Kinh doanh ,...  Nhân viên chính thức   \n",
       "\n",
       "               Lương    Kinh nghiệm                 Cấp bậc Hết hạn nộp  \\\n",
       "1         Cạnh tranh      1 - 3 Năm               Nhân viên  31/12/2024   \n",
       "2  13 Tr - 15 Tr VND      3 - 4 Năm               Nhân viên  09/12/2024   \n",
       "3         Cạnh tranh  Lên đến 5 Năm                 Quản lý  31/12/2024   \n",
       "5  15 Tr - 18 Tr VND      3 - 5 Năm  Trưởng nhóm / Giám sát  09/01/2025   \n",
       "7   8 Tr - 15 Tr VND      1 - 2 Năm               Nhân viên  31/12/2024   \n",
       "\n",
       "  Quy mô công ty  Lương tối thiểu (VND)  Lương tối đa (VND)  \n",
       "1            Vừa                   -1.0                -1.0  \n",
       "2            Vừa             13000000.0          15000000.0  \n",
       "3            Lớn                   -1.0                -1.0  \n",
       "5            Vừa             15000000.0          18000000.0  \n",
       "7            Vừa              8000000.0          15000000.0  "
      ]
     },
     "execution_count": 25,
     "metadata": {},
     "output_type": "execute_result"
    }
   ],
   "source": [
    "raw_df.head()"
   ]
  },
  {
   "cell_type": "markdown",
   "id": "9fbcbe16-ded9-47bc-9989-8652c56bd4c1",
   "metadata": {},
   "source": [
    "**`Kinh nghiệm`**"
   ]
  },
  {
   "cell_type": "code",
   "execution_count": 26,
   "id": "689fef34-2bca-4936-bbd5-6ef4301b9d69",
   "metadata": {},
   "outputs": [],
   "source": [
    "# Tách giá trị từ cột \"Kinh nghiệm\"\n",
    "raw_df['Kinh nghiệm tối thiểu'] = raw_df['Kinh nghiệm'].str.extract(r'(\\d+)', expand=False)\n",
    "\n",
    "# Chuyển giá trị sang kiểu số\n",
    "raw_df['Kinh nghiệm tối thiểu'] = pd.to_numeric(raw_df['Kinh nghiệm tối thiểu'], errors='coerce')"
   ]
  },
  {
   "cell_type": "code",
   "execution_count": 27,
   "id": "7d30028c-f742-4155-bdd0-611db46872ca",
   "metadata": {},
   "outputs": [
    {
     "data": {
      "text/html": [
       "<div>\n",
       "<style scoped>\n",
       "    .dataframe tbody tr th:only-of-type {\n",
       "        vertical-align: middle;\n",
       "    }\n",
       "\n",
       "    .dataframe tbody tr th {\n",
       "        vertical-align: top;\n",
       "    }\n",
       "\n",
       "    .dataframe thead th {\n",
       "        text-align: right;\n",
       "    }\n",
       "</style>\n",
       "<table border=\"1\" class=\"dataframe\">\n",
       "  <thead>\n",
       "    <tr style=\"text-align: right;\">\n",
       "      <th></th>\n",
       "      <th>Tên công việc</th>\n",
       "      <th>Địa điểm</th>\n",
       "      <th>Tên công ty</th>\n",
       "      <th>Địa chỉ công ty</th>\n",
       "      <th>Người liên hệ</th>\n",
       "      <th>Qui mô công ty</th>\n",
       "      <th>Loại hình hoạt động</th>\n",
       "      <th>Ngày cập nhật</th>\n",
       "      <th>Ngành nghề</th>\n",
       "      <th>Hình thức</th>\n",
       "      <th>Lương</th>\n",
       "      <th>Kinh nghiệm</th>\n",
       "      <th>Cấp bậc</th>\n",
       "      <th>Hết hạn nộp</th>\n",
       "      <th>Quy mô công ty</th>\n",
       "      <th>Lương tối thiểu (VND)</th>\n",
       "      <th>Lương tối đa (VND)</th>\n",
       "      <th>Kinh nghiệm tối thiểu</th>\n",
       "    </tr>\n",
       "  </thead>\n",
       "  <tbody>\n",
       "    <tr>\n",
       "      <th>1</th>\n",
       "      <td>Kỹ Thuật Bảo Trì</td>\n",
       "      <td>['Bình Dương']</td>\n",
       "      <td>CÔNG TY TNHH LF LOGISTICS (VIỆT NAM)</td>\n",
       "      <td>Lô số 18 L1-2, Đường số 3, Khu công nghiệp Việ...</td>\n",
       "      <td>HR Department</td>\n",
       "      <td>100-499</td>\n",
       "      <td>100% vốn nước ngoài</td>\n",
       "      <td>2024-12-09</td>\n",
       "      <td>Cơ khí / Ô tô / Tự động hóa , Điện / Điện tử /...</td>\n",
       "      <td>Nhân viên chính thức</td>\n",
       "      <td>Cạnh tranh</td>\n",
       "      <td>1 - 3 Năm</td>\n",
       "      <td>Nhân viên</td>\n",
       "      <td>31/12/2024</td>\n",
       "      <td>Vừa</td>\n",
       "      <td>-1.0</td>\n",
       "      <td>-1.0</td>\n",
       "      <td>1.0</td>\n",
       "    </tr>\n",
       "    <tr>\n",
       "      <th>2</th>\n",
       "      <td>NHÂN VIÊN BẢO TRÌ</td>\n",
       "      <td>['Bình Dương']</td>\n",
       "      <td>CÔNG TY TNHH SẢN XUẤT GREAT LOTUS VIỆT NAM</td>\n",
       "      <td>Số 3 VSIP II-A đường số 26, Khu công nghiệp Vi...</td>\n",
       "      <td>CÔNG TY TNHH SẢN XUẤT GREAT LOTUS VIỆT NAM</td>\n",
       "      <td>100-499</td>\n",
       "      <td>100% vốn nước ngoài</td>\n",
       "      <td>2024-12-09</td>\n",
       "      <td>Bảo trì / Sửa chữa</td>\n",
       "      <td>Nhân viên chính thức</td>\n",
       "      <td>13 Tr - 15 Tr VND</td>\n",
       "      <td>3 - 4 Năm</td>\n",
       "      <td>Nhân viên</td>\n",
       "      <td>09/12/2024</td>\n",
       "      <td>Vừa</td>\n",
       "      <td>13000000.0</td>\n",
       "      <td>15000000.0</td>\n",
       "      <td>3.0</td>\n",
       "    </tr>\n",
       "    <tr>\n",
       "      <th>3</th>\n",
       "      <td>HR cum Compliance Manager</td>\n",
       "      <td>['Bình Dương']</td>\n",
       "      <td>CTY TNHH S.H VIET NAM</td>\n",
       "      <td>241 Khu phố Hưng Lộc Phường Hưng Đinh, Tp Thuậ...</td>\n",
       "      <td>Phòng Nhân Sự</td>\n",
       "      <td>500-999</td>\n",
       "      <td>100% vốn nước ngoài</td>\n",
       "      <td>2024-12-09</td>\n",
       "      <td>Quản lý điều hành , Nhân sự , Dệt may / Da già...</td>\n",
       "      <td>Nhân viên chính thức</td>\n",
       "      <td>Cạnh tranh</td>\n",
       "      <td>Lên đến 5 Năm</td>\n",
       "      <td>Quản lý</td>\n",
       "      <td>31/12/2024</td>\n",
       "      <td>Lớn</td>\n",
       "      <td>-1.0</td>\n",
       "      <td>-1.0</td>\n",
       "      <td>5.0</td>\n",
       "    </tr>\n",
       "    <tr>\n",
       "      <th>5</th>\n",
       "      <td>Giám sát kho</td>\n",
       "      <td>['Bình Dương']</td>\n",
       "      <td>CÔNG TY AVANTI - GROUP</td>\n",
       "      <td>Tầng 18, Tòa nhà Bitexco,Phường Bến Nghé, Quận...</td>\n",
       "      <td>Ms. Hoa</td>\n",
       "      <td>100-499</td>\n",
       "      <td>Trách nhiệm hữu hạn</td>\n",
       "      <td>2024-12-09</td>\n",
       "      <td>Vận chuyển / Giao nhận / Kho vận</td>\n",
       "      <td>Nhân viên chính thức</td>\n",
       "      <td>15 Tr - 18 Tr VND</td>\n",
       "      <td>3 - 5 Năm</td>\n",
       "      <td>Trưởng nhóm / Giám sát</td>\n",
       "      <td>09/01/2025</td>\n",
       "      <td>Vừa</td>\n",
       "      <td>15000000.0</td>\n",
       "      <td>18000000.0</td>\n",
       "      <td>3.0</td>\n",
       "    </tr>\n",
       "    <tr>\n",
       "      <th>7</th>\n",
       "      <td>NHÂN VIÊN SÁNG TẠO NỘI DUNG (LÀM VIỆC Ở DĨ AN,...</td>\n",
       "      <td>['Bình Dương']</td>\n",
       "      <td>CÔNG TY CỔ PHẦN SẢN XUẤT, THƯƠNG MẠI VÀ DỊCH V...</td>\n",
       "      <td>P26.01 - Tòa nhà TTTM và Căn hộ Xa la - Phường...</td>\n",
       "      <td>P. HCNS</td>\n",
       "      <td>100-499</td>\n",
       "      <td>Cổ phần</td>\n",
       "      <td>2024-12-09</td>\n",
       "      <td>Tiếp thị / Marketing , Bán hàng / Kinh doanh ,...</td>\n",
       "      <td>Nhân viên chính thức</td>\n",
       "      <td>8 Tr - 15 Tr VND</td>\n",
       "      <td>1 - 2 Năm</td>\n",
       "      <td>Nhân viên</td>\n",
       "      <td>31/12/2024</td>\n",
       "      <td>Vừa</td>\n",
       "      <td>8000000.0</td>\n",
       "      <td>15000000.0</td>\n",
       "      <td>1.0</td>\n",
       "    </tr>\n",
       "  </tbody>\n",
       "</table>\n",
       "</div>"
      ],
      "text/plain": [
       "                                       Tên công việc        Địa điểm  \\\n",
       "1                                   Kỹ Thuật Bảo Trì  ['Bình Dương']   \n",
       "2                                  NHÂN VIÊN BẢO TRÌ  ['Bình Dương']   \n",
       "3                          HR cum Compliance Manager  ['Bình Dương']   \n",
       "5                                       Giám sát kho  ['Bình Dương']   \n",
       "7  NHÂN VIÊN SÁNG TẠO NỘI DUNG (LÀM VIỆC Ở DĨ AN,...  ['Bình Dương']   \n",
       "\n",
       "                                         Tên công ty  \\\n",
       "1               CÔNG TY TNHH LF LOGISTICS (VIỆT NAM)   \n",
       "2         CÔNG TY TNHH SẢN XUẤT GREAT LOTUS VIỆT NAM   \n",
       "3                              CTY TNHH S.H VIET NAM   \n",
       "5                             CÔNG TY AVANTI - GROUP   \n",
       "7  CÔNG TY CỔ PHẦN SẢN XUẤT, THƯƠNG MẠI VÀ DỊCH V...   \n",
       "\n",
       "                                     Địa chỉ công ty  \\\n",
       "1  Lô số 18 L1-2, Đường số 3, Khu công nghiệp Việ...   \n",
       "2  Số 3 VSIP II-A đường số 26, Khu công nghiệp Vi...   \n",
       "3  241 Khu phố Hưng Lộc Phường Hưng Đinh, Tp Thuậ...   \n",
       "5  Tầng 18, Tòa nhà Bitexco,Phường Bến Nghé, Quận...   \n",
       "7  P26.01 - Tòa nhà TTTM và Căn hộ Xa la - Phường...   \n",
       "\n",
       "                                Người liên hệ Qui mô công ty  \\\n",
       "1                               HR Department        100-499   \n",
       "2  CÔNG TY TNHH SẢN XUẤT GREAT LOTUS VIỆT NAM        100-499   \n",
       "3                               Phòng Nhân Sự        500-999   \n",
       "5                                     Ms. Hoa        100-499   \n",
       "7                                     P. HCNS        100-499   \n",
       "\n",
       "   Loại hình hoạt động Ngày cập nhật  \\\n",
       "1  100% vốn nước ngoài    2024-12-09   \n",
       "2  100% vốn nước ngoài    2024-12-09   \n",
       "3  100% vốn nước ngoài    2024-12-09   \n",
       "5  Trách nhiệm hữu hạn    2024-12-09   \n",
       "7              Cổ phần    2024-12-09   \n",
       "\n",
       "                                          Ngành nghề             Hình thức  \\\n",
       "1  Cơ khí / Ô tô / Tự động hóa , Điện / Điện tử /...  Nhân viên chính thức   \n",
       "2                                 Bảo trì / Sửa chữa  Nhân viên chính thức   \n",
       "3  Quản lý điều hành , Nhân sự , Dệt may / Da già...  Nhân viên chính thức   \n",
       "5                   Vận chuyển / Giao nhận / Kho vận  Nhân viên chính thức   \n",
       "7  Tiếp thị / Marketing , Bán hàng / Kinh doanh ,...  Nhân viên chính thức   \n",
       "\n",
       "               Lương    Kinh nghiệm                 Cấp bậc Hết hạn nộp  \\\n",
       "1         Cạnh tranh      1 - 3 Năm               Nhân viên  31/12/2024   \n",
       "2  13 Tr - 15 Tr VND      3 - 4 Năm               Nhân viên  09/12/2024   \n",
       "3         Cạnh tranh  Lên đến 5 Năm                 Quản lý  31/12/2024   \n",
       "5  15 Tr - 18 Tr VND      3 - 5 Năm  Trưởng nhóm / Giám sát  09/01/2025   \n",
       "7   8 Tr - 15 Tr VND      1 - 2 Năm               Nhân viên  31/12/2024   \n",
       "\n",
       "  Quy mô công ty  Lương tối thiểu (VND)  Lương tối đa (VND)  \\\n",
       "1            Vừa                   -1.0                -1.0   \n",
       "2            Vừa             13000000.0          15000000.0   \n",
       "3            Lớn                   -1.0                -1.0   \n",
       "5            Vừa             15000000.0          18000000.0   \n",
       "7            Vừa              8000000.0          15000000.0   \n",
       "\n",
       "   Kinh nghiệm tối thiểu  \n",
       "1                    1.0  \n",
       "2                    3.0  \n",
       "3                    5.0  \n",
       "5                    3.0  \n",
       "7                    1.0  "
      ]
     },
     "execution_count": 27,
     "metadata": {},
     "output_type": "execute_result"
    }
   ],
   "source": [
    "raw_df.head()"
   ]
  },
  {
   "cell_type": "markdown",
   "id": "b2f48ebb-4405-4205-9d1d-b452ec7f98e7",
   "metadata": {},
   "source": [
    "**`Cấp bậc`**"
   ]
  },
  {
   "cell_type": "markdown",
   "id": "c18952ab-8fa8-4657-8377-2d11eed52b88",
   "metadata": {},
   "source": [
    "Ổn"
   ]
  },
  {
   "cell_type": "markdown",
   "id": "5d3e8219-dbda-45ac-91df-6513c812c9fa",
   "metadata": {},
   "source": [
    "**`Hết hạn nộp`**"
   ]
  },
  {
   "cell_type": "code",
   "execution_count": 28,
   "id": "882e3cfe-c7eb-4df5-a0ac-ea7715e3cf17",
   "metadata": {},
   "outputs": [],
   "source": [
    "raw_df['Hết hạn nộp'] = pd.to_datetime(raw_df['Hết hạn nộp'],  format='%d/%m/%Y', errors='coerce')"
   ]
  },
  {
   "cell_type": "markdown",
   "id": "1d693e2c-7c87-48c4-9fec-76a1013dd33e",
   "metadata": {},
   "source": [
    "### Kiểm tra lại kiểu dữ liệu của các cột"
   ]
  },
  {
   "cell_type": "code",
   "execution_count": 29,
   "id": "031c3540-2f62-4ae2-8975-75013e331539",
   "metadata": {},
   "outputs": [
    {
     "name": "stdout",
     "output_type": "stream",
     "text": [
      "<class 'pandas.core.frame.DataFrame'>\n",
      "Int64Index: 11778 entries, 1 to 20304\n",
      "Data columns (total 18 columns):\n",
      " #   Column                 Non-Null Count  Dtype         \n",
      "---  ------                 --------------  -----         \n",
      " 0   Tên công việc          11778 non-null  object        \n",
      " 1   Địa điểm               11778 non-null  object        \n",
      " 2   Tên công ty            11778 non-null  object        \n",
      " 3   Địa chỉ công ty        11778 non-null  object        \n",
      " 4   Người liên hệ          11778 non-null  object        \n",
      " 5   Qui mô công ty         11778 non-null  object        \n",
      " 6   Loại hình hoạt động    11778 non-null  object        \n",
      " 7   Ngày cập nhật          11778 non-null  datetime64[ns]\n",
      " 8   Ngành nghề             11778 non-null  object        \n",
      " 9   Hình thức              11778 non-null  object        \n",
      " 10  Lương                  11778 non-null  object        \n",
      " 11  Kinh nghiệm            11778 non-null  object        \n",
      " 12  Cấp bậc                11778 non-null  object        \n",
      " 13  Hết hạn nộp            11778 non-null  datetime64[ns]\n",
      " 14  Quy mô công ty         11778 non-null  object        \n",
      " 15  Lương tối thiểu (VND)  11778 non-null  float64       \n",
      " 16  Lương tối đa (VND)     11778 non-null  float64       \n",
      " 17  Kinh nghiệm tối thiểu  11543 non-null  float64       \n",
      "dtypes: datetime64[ns](2), float64(3), object(13)\n",
      "memory usage: 1.7+ MB\n"
     ]
    }
   ],
   "source": [
    "raw_df.info()"
   ]
  },
  {
   "cell_type": "markdown",
   "id": "ddb941fa-2e51-4f10-98d6-767860d3c657",
   "metadata": {},
   "source": [
    "### Với mỗi cột có kiểu dữ liệu dạng số, các giá trị được phân bố như thế nào?"
   ]
  },
  {
   "cell_type": "markdown",
   "id": "0d55af19-0bcb-459e-85fb-10056c0963c0",
   "metadata": {},
   "source": [
    "**Đầu tiên ta sẽ lấy tên các cột có dữ liệu dạng số và lưu vào `numeric_columns`**\n"
   ]
  },
  {
   "cell_type": "code",
   "execution_count": 30,
   "id": "b4da552a-f88c-4b37-b24e-07c069fe309c",
   "metadata": {},
   "outputs": [
    {
     "data": {
      "text/plain": [
       "Index(['Lương tối thiểu (VND)', 'Lương tối đa (VND)', 'Kinh nghiệm tối thiểu'], dtype='object')"
      ]
     },
     "execution_count": 30,
     "metadata": {},
     "output_type": "execute_result"
    }
   ],
   "source": [
    "numeric_columns = raw_df.select_dtypes(include='number').columns[:] \n",
    "numeric_columns"
   ]
  },
  {
   "cell_type": "markdown",
   "id": "5c5aa02d-8129-4b1d-b4a0-e56e9fe22d3c",
   "metadata": {},
   "source": [
    "**Sau đó, ta sẽ xem tỉ lệ giá trị bị thiếu trong các cột dữ liệu kiểu số là bao nhiêu**"
   ]
  },
  {
   "cell_type": "code",
   "execution_count": 31,
   "id": "15c77878-fa76-428e-8ae8-9f3809d92767",
   "metadata": {},
   "outputs": [
    {
     "name": "stdout",
     "output_type": "stream",
     "text": [
      "Phần trăm giá trị còn thiếu của cột 'Lương tối thiểu (VND)' là 0.00%\n",
      "Phần trăm giá trị còn thiếu của cột 'Lương tối đa (VND)' là 0.00%\n",
      "Phần trăm giá trị còn thiếu của cột 'Kinh nghiệm tối thiểu' là 2.00%\n"
     ]
    }
   ],
   "source": [
    "percentage_missing_dic = {}\n",
    "for col in numeric_columns:\n",
    "    percentage_missing = raw_df[col].isna().mean() * 100\n",
    "    percentage_missing_dic[col] = percentage_missing\n",
    "    print(f'Phần trăm giá trị còn thiếu của cột \\'{col}\\' là {percentage_missing:.2f}%')"
   ]
  },
  {
   "cell_type": "markdown",
   "id": "e5b0af1f-99c2-4815-b9db-c3c807ab9159",
   "metadata": {},
   "source": [
    "**Xử lý dữ liệu bị thiếu**"
   ]
  },
  {
   "cell_type": "code",
   "execution_count": 32,
   "id": "d20c85b9-89d0-4af7-9456-054e446565cf",
   "metadata": {},
   "outputs": [
    {
     "data": {
      "text/html": [
       "<div>\n",
       "<style scoped>\n",
       "    .dataframe tbody tr th:only-of-type {\n",
       "        vertical-align: middle;\n",
       "    }\n",
       "\n",
       "    .dataframe tbody tr th {\n",
       "        vertical-align: top;\n",
       "    }\n",
       "\n",
       "    .dataframe thead th {\n",
       "        text-align: right;\n",
       "    }\n",
       "</style>\n",
       "<table border=\"1\" class=\"dataframe\">\n",
       "  <thead>\n",
       "    <tr style=\"text-align: right;\">\n",
       "      <th></th>\n",
       "      <th>Tên công việc</th>\n",
       "      <th>Địa điểm</th>\n",
       "      <th>Tên công ty</th>\n",
       "      <th>Địa chỉ công ty</th>\n",
       "      <th>Người liên hệ</th>\n",
       "      <th>Qui mô công ty</th>\n",
       "      <th>Loại hình hoạt động</th>\n",
       "      <th>Ngày cập nhật</th>\n",
       "      <th>Ngành nghề</th>\n",
       "      <th>Hình thức</th>\n",
       "      <th>Lương</th>\n",
       "      <th>Kinh nghiệm</th>\n",
       "      <th>Cấp bậc</th>\n",
       "      <th>Hết hạn nộp</th>\n",
       "      <th>Quy mô công ty</th>\n",
       "      <th>Lương tối thiểu (VND)</th>\n",
       "      <th>Lương tối đa (VND)</th>\n",
       "      <th>Kinh nghiệm tối thiểu</th>\n",
       "    </tr>\n",
       "  </thead>\n",
       "  <tbody>\n",
       "    <tr>\n",
       "      <th>1782</th>\n",
       "      <td>R&amp;D Mechanical Engineer</td>\n",
       "      <td>['Hồ Chí Minh']</td>\n",
       "      <td>SAMSUNG ELECTRONICS HCMC CE COMPLEX CO., LTD</td>\n",
       "      <td>Samsung Electronics HCMC CE Complex</td>\n",
       "      <td>Recruitment Team</td>\n",
       "      <td>6000 - 10000</td>\n",
       "      <td>100% vốn nước ngoài</td>\n",
       "      <td>2024-11-27</td>\n",
       "      <td>Cơ khí / Ô tô / Tự động hóa</td>\n",
       "      <td>Nhân viên chính thức</td>\n",
       "      <td>Cạnh tranh</td>\n",
       "      <td>Chưa có kinh nghiệm</td>\n",
       "      <td>Nhân viên</td>\n",
       "      <td>2024-12-26</td>\n",
       "      <td>Siêu lớn</td>\n",
       "      <td>-1.0</td>\n",
       "      <td>-1.0</td>\n",
       "      <td>NaN</td>\n",
       "    </tr>\n",
       "    <tr>\n",
       "      <th>2410</th>\n",
       "      <td>[H3] NHÂN VIÊN TƯ VẤN GÓI SỨC KHỎE PVI - THU N...</td>\n",
       "      <td>['Hồ Chí Minh']</td>\n",
       "      <td>BELLSYSTEM24-VIỆT NAM</td>\n",
       "      <td>Số 3 Vũ Phạm Hàm, Yên Hòa, Cầu Giấy, Hà Nội</td>\n",
       "      <td>Bộ Phận Tuyển Dụng Nhân Sự</td>\n",
       "      <td>1.000-4.999</td>\n",
       "      <td>100% vốn nước ngoài</td>\n",
       "      <td>2024-12-04</td>\n",
       "      <td>Bảo hiểm , Bất động sản , Tư vấn</td>\n",
       "      <td>Nhân viên chính thức</td>\n",
       "      <td>6 Tr - 18 Tr VND</td>\n",
       "      <td>Chưa có kinh nghiệm</td>\n",
       "      <td>Nhân viên</td>\n",
       "      <td>2024-12-31</td>\n",
       "      <td>Lớn</td>\n",
       "      <td>6000000.0</td>\n",
       "      <td>18000000.0</td>\n",
       "      <td>NaN</td>\n",
       "    </tr>\n",
       "    <tr>\n",
       "      <th>2461</th>\n",
       "      <td>[H4] TỔNG ĐÀI CHĂM SÓC KHÁCH HÀNG TOSHIBA - LÀ...</td>\n",
       "      <td>['Hồ Chí Minh']</td>\n",
       "      <td>BELLSYSTEM24-VIỆT NAM</td>\n",
       "      <td>Số 3 Vũ Phạm Hàm, Yên Hòa, Cầu Giấy, Hà Nội</td>\n",
       "      <td>Bộ Phận Tuyển Dụng Nhân Sự</td>\n",
       "      <td>1.000-4.999</td>\n",
       "      <td>100% vốn nước ngoài</td>\n",
       "      <td>2024-12-10</td>\n",
       "      <td>Dịch vụ khách hàng</td>\n",
       "      <td>Nhân viên chính thức</td>\n",
       "      <td>6 Tr - 7 Tr VND</td>\n",
       "      <td>Chưa có kinh nghiệm</td>\n",
       "      <td>Nhân viên</td>\n",
       "      <td>2025-01-01</td>\n",
       "      <td>Lớn</td>\n",
       "      <td>6000000.0</td>\n",
       "      <td>7000000.0</td>\n",
       "      <td>NaN</td>\n",
       "    </tr>\n",
       "    <tr>\n",
       "      <th>3087</th>\n",
       "      <td>[H5] NHÂN VIÊN CHĂM SÓC KHÁCH HÀNG - DKSH</td>\n",
       "      <td>['Hồ Chí Minh']</td>\n",
       "      <td>BELLSYSTEM24-VIỆT NAM</td>\n",
       "      <td>Số 3 Vũ Phạm Hàm, Yên Hòa, Cầu Giấy, Hà Nội</td>\n",
       "      <td>Bộ Phận Tuyển Dụng Nhân Sự</td>\n",
       "      <td>1.000-4.999</td>\n",
       "      <td>100% vốn nước ngoài</td>\n",
       "      <td>2024-12-03</td>\n",
       "      <td>Dịch vụ khách hàng</td>\n",
       "      <td>Nhân viên chính thức</td>\n",
       "      <td>Cạnh tranh</td>\n",
       "      <td>Chưa có kinh nghiệm</td>\n",
       "      <td>Nhân viên</td>\n",
       "      <td>2024-11-30</td>\n",
       "      <td>Lớn</td>\n",
       "      <td>-1.0</td>\n",
       "      <td>-1.0</td>\n",
       "      <td>NaN</td>\n",
       "    </tr>\n",
       "    <tr>\n",
       "      <th>3399</th>\n",
       "      <td>Operations Coordinator - Receptionist (Dist. 9...</td>\n",
       "      <td>['Hồ Chí Minh']</td>\n",
       "      <td>TECHTRONIC INDUSTRIES VIETNAM MANUFACTURING CO...</td>\n",
       "      <td>Cần đổi thành 9A VSIP II-A Street 27, Vietnam ...</td>\n",
       "      <td>HR Dept.</td>\n",
       "      <td>10.000-19.999</td>\n",
       "      <td>100% vốn nước ngoài</td>\n",
       "      <td>2024-12-05</td>\n",
       "      <td>Hành chính / Thư ký</td>\n",
       "      <td>Nhân viên chính thức</td>\n",
       "      <td>Cạnh tranh</td>\n",
       "      <td>Chưa có kinh nghiệm</td>\n",
       "      <td>Nhân viên</td>\n",
       "      <td>2025-01-05</td>\n",
       "      <td>Lớn</td>\n",
       "      <td>-1.0</td>\n",
       "      <td>-1.0</td>\n",
       "      <td>NaN</td>\n",
       "    </tr>\n",
       "  </tbody>\n",
       "</table>\n",
       "</div>"
      ],
      "text/plain": [
       "                                          Tên công việc         Địa điểm  \\\n",
       "1782                            R&D Mechanical Engineer  ['Hồ Chí Minh']   \n",
       "2410  [H3] NHÂN VIÊN TƯ VẤN GÓI SỨC KHỎE PVI - THU N...  ['Hồ Chí Minh']   \n",
       "2461  [H4] TỔNG ĐÀI CHĂM SÓC KHÁCH HÀNG TOSHIBA - LÀ...  ['Hồ Chí Minh']   \n",
       "3087          [H5] NHÂN VIÊN CHĂM SÓC KHÁCH HÀNG - DKSH  ['Hồ Chí Minh']   \n",
       "3399  Operations Coordinator - Receptionist (Dist. 9...  ['Hồ Chí Minh']   \n",
       "\n",
       "                                            Tên công ty  \\\n",
       "1782       SAMSUNG ELECTRONICS HCMC CE COMPLEX CO., LTD   \n",
       "2410                              BELLSYSTEM24-VIỆT NAM   \n",
       "2461                              BELLSYSTEM24-VIỆT NAM   \n",
       "3087                              BELLSYSTEM24-VIỆT NAM   \n",
       "3399  TECHTRONIC INDUSTRIES VIETNAM MANUFACTURING CO...   \n",
       "\n",
       "                                        Địa chỉ công ty  \\\n",
       "1782                Samsung Electronics HCMC CE Complex   \n",
       "2410        Số 3 Vũ Phạm Hàm, Yên Hòa, Cầu Giấy, Hà Nội   \n",
       "2461        Số 3 Vũ Phạm Hàm, Yên Hòa, Cầu Giấy, Hà Nội   \n",
       "3087        Số 3 Vũ Phạm Hàm, Yên Hòa, Cầu Giấy, Hà Nội   \n",
       "3399  Cần đổi thành 9A VSIP II-A Street 27, Vietnam ...   \n",
       "\n",
       "                   Người liên hệ Qui mô công ty  Loại hình hoạt động  \\\n",
       "1782            Recruitment Team   6000 - 10000  100% vốn nước ngoài   \n",
       "2410  Bộ Phận Tuyển Dụng Nhân Sự    1.000-4.999  100% vốn nước ngoài   \n",
       "2461  Bộ Phận Tuyển Dụng Nhân Sự    1.000-4.999  100% vốn nước ngoài   \n",
       "3087  Bộ Phận Tuyển Dụng Nhân Sự    1.000-4.999  100% vốn nước ngoài   \n",
       "3399                    HR Dept.  10.000-19.999  100% vốn nước ngoài   \n",
       "\n",
       "     Ngày cập nhật                        Ngành nghề             Hình thức  \\\n",
       "1782    2024-11-27       Cơ khí / Ô tô / Tự động hóa  Nhân viên chính thức   \n",
       "2410    2024-12-04  Bảo hiểm , Bất động sản , Tư vấn  Nhân viên chính thức   \n",
       "2461    2024-12-10                Dịch vụ khách hàng  Nhân viên chính thức   \n",
       "3087    2024-12-03                Dịch vụ khách hàng  Nhân viên chính thức   \n",
       "3399    2024-12-05               Hành chính / Thư ký  Nhân viên chính thức   \n",
       "\n",
       "                 Lương          Kinh nghiệm    Cấp bậc Hết hạn nộp  \\\n",
       "1782        Cạnh tranh  Chưa có kinh nghiệm  Nhân viên  2024-12-26   \n",
       "2410  6 Tr - 18 Tr VND  Chưa có kinh nghiệm  Nhân viên  2024-12-31   \n",
       "2461   6 Tr - 7 Tr VND  Chưa có kinh nghiệm  Nhân viên  2025-01-01   \n",
       "3087        Cạnh tranh  Chưa có kinh nghiệm  Nhân viên  2024-11-30   \n",
       "3399        Cạnh tranh  Chưa có kinh nghiệm  Nhân viên  2025-01-05   \n",
       "\n",
       "     Quy mô công ty  Lương tối thiểu (VND)  Lương tối đa (VND)  \\\n",
       "1782       Siêu lớn                   -1.0                -1.0   \n",
       "2410            Lớn              6000000.0          18000000.0   \n",
       "2461            Lớn              6000000.0           7000000.0   \n",
       "3087            Lớn                   -1.0                -1.0   \n",
       "3399            Lớn                   -1.0                -1.0   \n",
       "\n",
       "      Kinh nghiệm tối thiểu  \n",
       "1782                    NaN  \n",
       "2410                    NaN  \n",
       "2461                    NaN  \n",
       "3087                    NaN  \n",
       "3399                    NaN  "
      ]
     },
     "execution_count": 32,
     "metadata": {},
     "output_type": "execute_result"
    }
   ],
   "source": [
    "# Lọc ra các dòng có giá trị bị thiếu ở cột 'Kinh nghiệm tối thiểu'\n",
    "missing_experience_min = raw_df[raw_df['Kinh nghiệm tối thiểu'].isna()]\n",
    "\n",
    "missing_experience_min.head()"
   ]
  },
  {
   "cell_type": "markdown",
   "id": "55a65fcd-c751-4306-9d87-5c6aeaab80d8",
   "metadata": {},
   "source": [
    "Những dòng mà `Kinh nghiệm tối thiểu` không có giá trị là do cột `Kinh nghiệm` có giá trị là 'Chưa có kinh nghiệm', và với giá trị này ta có thể hiểu `Kinh nghiệm tối thiểu` là 0, vì vậy, ta có thể điền giá trị '0' vào các giá trị NULL này."
   ]
  },
  {
   "cell_type": "code",
   "execution_count": 33,
   "id": "51907cb8-509e-4e82-acac-db1b4a4b80d7",
   "metadata": {},
   "outputs": [],
   "source": [
    "raw_df['Kinh nghiệm tối thiểu'] = raw_df['Kinh nghiệm tối thiểu'].fillna(0)"
   ]
  },
  {
   "cell_type": "code",
   "execution_count": 34,
   "id": "c7fd5e7b-8002-4757-801f-72173e3c2282",
   "metadata": {},
   "outputs": [
    {
     "name": "stdout",
     "output_type": "stream",
     "text": [
      "Phần trăm giá trị còn thiếu của cột 'Lương tối thiểu (VND)' là 0.00%\n",
      "Phần trăm giá trị còn thiếu của cột 'Lương tối đa (VND)' là 0.00%\n",
      "Phần trăm giá trị còn thiếu của cột 'Kinh nghiệm tối thiểu' là 0.00%\n"
     ]
    }
   ],
   "source": [
    "percentage_missing_dic = {}\n",
    "for col in numeric_columns:\n",
    "    percentage_missing = raw_df[col].isna().mean() * 100\n",
    "    percentage_missing_dic[col] = percentage_missing\n",
    "    print(f'Phần trăm giá trị còn thiếu của cột \\'{col}\\' là {percentage_missing:.2f}%')"
   ]
  },
  {
   "cell_type": "code",
   "execution_count": 35,
   "id": "d7222e7a-e6af-481f-966b-460bff49980b",
   "metadata": {},
   "outputs": [
    {
     "data": {
      "text/plain": [
       "Tên công việc            0\n",
       "Địa điểm                 0\n",
       "Tên công ty              0\n",
       "Địa chỉ công ty          0\n",
       "Người liên hệ            0\n",
       "Qui mô công ty           0\n",
       "Loại hình hoạt động      0\n",
       "Ngày cập nhật            0\n",
       "Ngành nghề               0\n",
       "Hình thức                0\n",
       "Lương                    0\n",
       "Kinh nghiệm              0\n",
       "Cấp bậc                  0\n",
       "Hết hạn nộp              0\n",
       "Quy mô công ty           0\n",
       "Lương tối thiểu (VND)    0\n",
       "Lương tối đa (VND)       0\n",
       "Kinh nghiệm tối thiểu    0\n",
       "dtype: int64"
      ]
     },
     "execution_count": 35,
     "metadata": {},
     "output_type": "execute_result"
    }
   ],
   "source": [
    "raw_df.isnull().sum()"
   ]
  },
  {
   "cell_type": "markdown",
   "id": "dcf8d31f-4d9a-473f-94af-1913abb9b203",
   "metadata": {},
   "source": [
    "**Các giá trị thống kê của các cột có dữ liệu dạng số**"
   ]
  },
  {
   "cell_type": "code",
   "execution_count": 36,
   "id": "80b0b86f-ce0d-4117-8f15-8fa63a659e9b",
   "metadata": {},
   "outputs": [
    {
     "data": {
      "text/html": [
       "<div>\n",
       "<style scoped>\n",
       "    .dataframe tbody tr th:only-of-type {\n",
       "        vertical-align: middle;\n",
       "    }\n",
       "\n",
       "    .dataframe tbody tr th {\n",
       "        vertical-align: top;\n",
       "    }\n",
       "\n",
       "    .dataframe thead th {\n",
       "        text-align: right;\n",
       "    }\n",
       "</style>\n",
       "<table border=\"1\" class=\"dataframe\">\n",
       "  <thead>\n",
       "    <tr style=\"text-align: right;\">\n",
       "      <th></th>\n",
       "      <th>Lương tối thiểu (VND)</th>\n",
       "      <th>Lương tối đa (VND)</th>\n",
       "      <th>Kinh nghiệm tối thiểu</th>\n",
       "    </tr>\n",
       "  </thead>\n",
       "  <tbody>\n",
       "    <tr>\n",
       "      <th>count</th>\n",
       "      <td>1.177800e+04</td>\n",
       "      <td>1.177800e+04</td>\n",
       "      <td>11778.000000</td>\n",
       "    </tr>\n",
       "    <tr>\n",
       "      <th>mean</th>\n",
       "      <td>7.979298e+06</td>\n",
       "      <td>1.201842e+07</td>\n",
       "      <td>2.116149</td>\n",
       "    </tr>\n",
       "    <tr>\n",
       "      <th>std</th>\n",
       "      <td>9.065157e+06</td>\n",
       "      <td>1.405628e+07</td>\n",
       "      <td>1.519260</td>\n",
       "    </tr>\n",
       "    <tr>\n",
       "      <th>min</th>\n",
       "      <td>-1.000000e+00</td>\n",
       "      <td>-1.000000e+00</td>\n",
       "      <td>0.000000</td>\n",
       "    </tr>\n",
       "    <tr>\n",
       "      <th>25%</th>\n",
       "      <td>-1.000000e+00</td>\n",
       "      <td>-1.000000e+00</td>\n",
       "      <td>1.000000</td>\n",
       "    </tr>\n",
       "    <tr>\n",
       "      <th>50%</th>\n",
       "      <td>8.000000e+06</td>\n",
       "      <td>1.200000e+07</td>\n",
       "      <td>2.000000</td>\n",
       "    </tr>\n",
       "    <tr>\n",
       "      <th>75%</th>\n",
       "      <td>1.200000e+07</td>\n",
       "      <td>2.000000e+07</td>\n",
       "      <td>3.000000</td>\n",
       "    </tr>\n",
       "    <tr>\n",
       "      <th>max</th>\n",
       "      <td>1.680000e+08</td>\n",
       "      <td>3.000000e+08</td>\n",
       "      <td>18.000000</td>\n",
       "    </tr>\n",
       "  </tbody>\n",
       "</table>\n",
       "</div>"
      ],
      "text/plain": [
       "       Lương tối thiểu (VND)  Lương tối đa (VND)  Kinh nghiệm tối thiểu\n",
       "count           1.177800e+04        1.177800e+04           11778.000000\n",
       "mean            7.979298e+06        1.201842e+07               2.116149\n",
       "std             9.065157e+06        1.405628e+07               1.519260\n",
       "min            -1.000000e+00       -1.000000e+00               0.000000\n",
       "25%            -1.000000e+00       -1.000000e+00               1.000000\n",
       "50%             8.000000e+06        1.200000e+07               2.000000\n",
       "75%             1.200000e+07        2.000000e+07               3.000000\n",
       "max             1.680000e+08        3.000000e+08              18.000000"
      ]
     },
     "execution_count": 36,
     "metadata": {},
     "output_type": "execute_result"
    }
   ],
   "source": [
    "raw_df.describe()"
   ]
  },
  {
   "cell_type": "markdown",
   "id": "96651072-5d69-4342-afeb-3363dbd87ce4",
   "metadata": {},
   "source": [
    "Không có gì bất thường."
   ]
  },
  {
   "cell_type": "markdown",
   "id": "c2e58e95-d7af-4a5e-a2e4-e5d7791fa498",
   "metadata": {},
   "source": [
    "### Với mỗi cột có kiểu dữ liệu dạng phân loại, các giá trị được phân bố như thế nào?"
   ]
  },
  {
   "cell_type": "code",
   "execution_count": 37,
   "id": "655584ab-e8dc-424d-9d6d-f5acf6100a44",
   "metadata": {},
   "outputs": [
    {
     "data": {
      "text/plain": [
       "Tên công việc            0\n",
       "Địa điểm                 0\n",
       "Tên công ty              0\n",
       "Địa chỉ công ty          0\n",
       "Người liên hệ            0\n",
       "Qui mô công ty           0\n",
       "Loại hình hoạt động      0\n",
       "Ngày cập nhật            0\n",
       "Ngành nghề               0\n",
       "Hình thức                0\n",
       "Lương                    0\n",
       "Kinh nghiệm              0\n",
       "Cấp bậc                  0\n",
       "Hết hạn nộp              0\n",
       "Quy mô công ty           0\n",
       "Lương tối thiểu (VND)    0\n",
       "Lương tối đa (VND)       0\n",
       "Kinh nghiệm tối thiểu    0\n",
       "dtype: int64"
      ]
     },
     "execution_count": 37,
     "metadata": {},
     "output_type": "execute_result"
    }
   ],
   "source": [
    "raw_df.isnull().sum()"
   ]
  },
  {
   "cell_type": "markdown",
   "id": "fe52a88c-ddb0-4e5b-bec0-b56e061170ad",
   "metadata": {},
   "source": [
    "Không có dữ liệu thiếu."
   ]
  },
  {
   "cell_type": "markdown",
   "id": "352cfd86-6862-4080-8629-82989acadb01",
   "metadata": {},
   "source": [
    "## Tạo dữ liệu mới hoàn toàn sạch (bỏ đi những cột thừa)"
   ]
  },
  {
   "cell_type": "code",
   "execution_count": 38,
   "id": "873503a9-ad93-4c32-b1b6-46ebf2f070d2",
   "metadata": {},
   "outputs": [
    {
     "data": {
      "text/html": [
       "<div>\n",
       "<style scoped>\n",
       "    .dataframe tbody tr th:only-of-type {\n",
       "        vertical-align: middle;\n",
       "    }\n",
       "\n",
       "    .dataframe tbody tr th {\n",
       "        vertical-align: top;\n",
       "    }\n",
       "\n",
       "    .dataframe thead th {\n",
       "        text-align: right;\n",
       "    }\n",
       "</style>\n",
       "<table border=\"1\" class=\"dataframe\">\n",
       "  <thead>\n",
       "    <tr style=\"text-align: right;\">\n",
       "      <th></th>\n",
       "      <th>Tên công việc</th>\n",
       "      <th>Địa điểm</th>\n",
       "      <th>Tên công ty</th>\n",
       "      <th>Địa chỉ công ty</th>\n",
       "      <th>Người liên hệ</th>\n",
       "      <th>Qui mô công ty</th>\n",
       "      <th>Loại hình hoạt động</th>\n",
       "      <th>Ngày cập nhật</th>\n",
       "      <th>Ngành nghề</th>\n",
       "      <th>Hình thức</th>\n",
       "      <th>Lương</th>\n",
       "      <th>Kinh nghiệm</th>\n",
       "      <th>Cấp bậc</th>\n",
       "      <th>Hết hạn nộp</th>\n",
       "      <th>Quy mô công ty</th>\n",
       "      <th>Lương tối thiểu (VND)</th>\n",
       "      <th>Lương tối đa (VND)</th>\n",
       "      <th>Kinh nghiệm tối thiểu</th>\n",
       "    </tr>\n",
       "  </thead>\n",
       "  <tbody>\n",
       "    <tr>\n",
       "      <th>1</th>\n",
       "      <td>Kỹ Thuật Bảo Trì</td>\n",
       "      <td>['Bình Dương']</td>\n",
       "      <td>CÔNG TY TNHH LF LOGISTICS (VIỆT NAM)</td>\n",
       "      <td>Lô số 18 L1-2, Đường số 3, Khu công nghiệp Việ...</td>\n",
       "      <td>HR Department</td>\n",
       "      <td>100-499</td>\n",
       "      <td>100% vốn nước ngoài</td>\n",
       "      <td>2024-12-09</td>\n",
       "      <td>Cơ khí / Ô tô / Tự động hóa , Điện / Điện tử /...</td>\n",
       "      <td>Nhân viên chính thức</td>\n",
       "      <td>Cạnh tranh</td>\n",
       "      <td>1 - 3 Năm</td>\n",
       "      <td>Nhân viên</td>\n",
       "      <td>2024-12-31</td>\n",
       "      <td>Vừa</td>\n",
       "      <td>-1.0</td>\n",
       "      <td>-1.0</td>\n",
       "      <td>1.0</td>\n",
       "    </tr>\n",
       "    <tr>\n",
       "      <th>2</th>\n",
       "      <td>NHÂN VIÊN BẢO TRÌ</td>\n",
       "      <td>['Bình Dương']</td>\n",
       "      <td>CÔNG TY TNHH SẢN XUẤT GREAT LOTUS VIỆT NAM</td>\n",
       "      <td>Số 3 VSIP II-A đường số 26, Khu công nghiệp Vi...</td>\n",
       "      <td>CÔNG TY TNHH SẢN XUẤT GREAT LOTUS VIỆT NAM</td>\n",
       "      <td>100-499</td>\n",
       "      <td>100% vốn nước ngoài</td>\n",
       "      <td>2024-12-09</td>\n",
       "      <td>Bảo trì / Sửa chữa</td>\n",
       "      <td>Nhân viên chính thức</td>\n",
       "      <td>13 Tr - 15 Tr VND</td>\n",
       "      <td>3 - 4 Năm</td>\n",
       "      <td>Nhân viên</td>\n",
       "      <td>2024-12-09</td>\n",
       "      <td>Vừa</td>\n",
       "      <td>13000000.0</td>\n",
       "      <td>15000000.0</td>\n",
       "      <td>3.0</td>\n",
       "    </tr>\n",
       "    <tr>\n",
       "      <th>3</th>\n",
       "      <td>HR cum Compliance Manager</td>\n",
       "      <td>['Bình Dương']</td>\n",
       "      <td>CTY TNHH S.H VIET NAM</td>\n",
       "      <td>241 Khu phố Hưng Lộc Phường Hưng Đinh, Tp Thuậ...</td>\n",
       "      <td>Phòng Nhân Sự</td>\n",
       "      <td>500-999</td>\n",
       "      <td>100% vốn nước ngoài</td>\n",
       "      <td>2024-12-09</td>\n",
       "      <td>Quản lý điều hành , Nhân sự , Dệt may / Da già...</td>\n",
       "      <td>Nhân viên chính thức</td>\n",
       "      <td>Cạnh tranh</td>\n",
       "      <td>Lên đến 5 Năm</td>\n",
       "      <td>Quản lý</td>\n",
       "      <td>2024-12-31</td>\n",
       "      <td>Lớn</td>\n",
       "      <td>-1.0</td>\n",
       "      <td>-1.0</td>\n",
       "      <td>5.0</td>\n",
       "    </tr>\n",
       "    <tr>\n",
       "      <th>5</th>\n",
       "      <td>Giám sát kho</td>\n",
       "      <td>['Bình Dương']</td>\n",
       "      <td>CÔNG TY AVANTI - GROUP</td>\n",
       "      <td>Tầng 18, Tòa nhà Bitexco,Phường Bến Nghé, Quận...</td>\n",
       "      <td>Ms. Hoa</td>\n",
       "      <td>100-499</td>\n",
       "      <td>Trách nhiệm hữu hạn</td>\n",
       "      <td>2024-12-09</td>\n",
       "      <td>Vận chuyển / Giao nhận / Kho vận</td>\n",
       "      <td>Nhân viên chính thức</td>\n",
       "      <td>15 Tr - 18 Tr VND</td>\n",
       "      <td>3 - 5 Năm</td>\n",
       "      <td>Trưởng nhóm / Giám sát</td>\n",
       "      <td>2025-01-09</td>\n",
       "      <td>Vừa</td>\n",
       "      <td>15000000.0</td>\n",
       "      <td>18000000.0</td>\n",
       "      <td>3.0</td>\n",
       "    </tr>\n",
       "    <tr>\n",
       "      <th>7</th>\n",
       "      <td>NHÂN VIÊN SÁNG TẠO NỘI DUNG (LÀM VIỆC Ở DĨ AN,...</td>\n",
       "      <td>['Bình Dương']</td>\n",
       "      <td>CÔNG TY CỔ PHẦN SẢN XUẤT, THƯƠNG MẠI VÀ DỊCH V...</td>\n",
       "      <td>P26.01 - Tòa nhà TTTM và Căn hộ Xa la - Phường...</td>\n",
       "      <td>P. HCNS</td>\n",
       "      <td>100-499</td>\n",
       "      <td>Cổ phần</td>\n",
       "      <td>2024-12-09</td>\n",
       "      <td>Tiếp thị / Marketing , Bán hàng / Kinh doanh ,...</td>\n",
       "      <td>Nhân viên chính thức</td>\n",
       "      <td>8 Tr - 15 Tr VND</td>\n",
       "      <td>1 - 2 Năm</td>\n",
       "      <td>Nhân viên</td>\n",
       "      <td>2024-12-31</td>\n",
       "      <td>Vừa</td>\n",
       "      <td>8000000.0</td>\n",
       "      <td>15000000.0</td>\n",
       "      <td>1.0</td>\n",
       "    </tr>\n",
       "  </tbody>\n",
       "</table>\n",
       "</div>"
      ],
      "text/plain": [
       "                                       Tên công việc        Địa điểm  \\\n",
       "1                                   Kỹ Thuật Bảo Trì  ['Bình Dương']   \n",
       "2                                  NHÂN VIÊN BẢO TRÌ  ['Bình Dương']   \n",
       "3                          HR cum Compliance Manager  ['Bình Dương']   \n",
       "5                                       Giám sát kho  ['Bình Dương']   \n",
       "7  NHÂN VIÊN SÁNG TẠO NỘI DUNG (LÀM VIỆC Ở DĨ AN,...  ['Bình Dương']   \n",
       "\n",
       "                                         Tên công ty  \\\n",
       "1               CÔNG TY TNHH LF LOGISTICS (VIỆT NAM)   \n",
       "2         CÔNG TY TNHH SẢN XUẤT GREAT LOTUS VIỆT NAM   \n",
       "3                              CTY TNHH S.H VIET NAM   \n",
       "5                             CÔNG TY AVANTI - GROUP   \n",
       "7  CÔNG TY CỔ PHẦN SẢN XUẤT, THƯƠNG MẠI VÀ DỊCH V...   \n",
       "\n",
       "                                     Địa chỉ công ty  \\\n",
       "1  Lô số 18 L1-2, Đường số 3, Khu công nghiệp Việ...   \n",
       "2  Số 3 VSIP II-A đường số 26, Khu công nghiệp Vi...   \n",
       "3  241 Khu phố Hưng Lộc Phường Hưng Đinh, Tp Thuậ...   \n",
       "5  Tầng 18, Tòa nhà Bitexco,Phường Bến Nghé, Quận...   \n",
       "7  P26.01 - Tòa nhà TTTM và Căn hộ Xa la - Phường...   \n",
       "\n",
       "                                Người liên hệ Qui mô công ty  \\\n",
       "1                               HR Department        100-499   \n",
       "2  CÔNG TY TNHH SẢN XUẤT GREAT LOTUS VIỆT NAM        100-499   \n",
       "3                               Phòng Nhân Sự        500-999   \n",
       "5                                     Ms. Hoa        100-499   \n",
       "7                                     P. HCNS        100-499   \n",
       "\n",
       "   Loại hình hoạt động Ngày cập nhật  \\\n",
       "1  100% vốn nước ngoài    2024-12-09   \n",
       "2  100% vốn nước ngoài    2024-12-09   \n",
       "3  100% vốn nước ngoài    2024-12-09   \n",
       "5  Trách nhiệm hữu hạn    2024-12-09   \n",
       "7              Cổ phần    2024-12-09   \n",
       "\n",
       "                                          Ngành nghề             Hình thức  \\\n",
       "1  Cơ khí / Ô tô / Tự động hóa , Điện / Điện tử /...  Nhân viên chính thức   \n",
       "2                                 Bảo trì / Sửa chữa  Nhân viên chính thức   \n",
       "3  Quản lý điều hành , Nhân sự , Dệt may / Da già...  Nhân viên chính thức   \n",
       "5                   Vận chuyển / Giao nhận / Kho vận  Nhân viên chính thức   \n",
       "7  Tiếp thị / Marketing , Bán hàng / Kinh doanh ,...  Nhân viên chính thức   \n",
       "\n",
       "               Lương    Kinh nghiệm                 Cấp bậc Hết hạn nộp  \\\n",
       "1         Cạnh tranh      1 - 3 Năm               Nhân viên  2024-12-31   \n",
       "2  13 Tr - 15 Tr VND      3 - 4 Năm               Nhân viên  2024-12-09   \n",
       "3         Cạnh tranh  Lên đến 5 Năm                 Quản lý  2024-12-31   \n",
       "5  15 Tr - 18 Tr VND      3 - 5 Năm  Trưởng nhóm / Giám sát  2025-01-09   \n",
       "7   8 Tr - 15 Tr VND      1 - 2 Năm               Nhân viên  2024-12-31   \n",
       "\n",
       "  Quy mô công ty  Lương tối thiểu (VND)  Lương tối đa (VND)  \\\n",
       "1            Vừa                   -1.0                -1.0   \n",
       "2            Vừa             13000000.0          15000000.0   \n",
       "3            Lớn                   -1.0                -1.0   \n",
       "5            Vừa             15000000.0          18000000.0   \n",
       "7            Vừa              8000000.0          15000000.0   \n",
       "\n",
       "   Kinh nghiệm tối thiểu  \n",
       "1                    1.0  \n",
       "2                    3.0  \n",
       "3                    5.0  \n",
       "5                    3.0  \n",
       "7                    1.0  "
      ]
     },
     "execution_count": 38,
     "metadata": {},
     "output_type": "execute_result"
    }
   ],
   "source": [
    "raw_df.head()"
   ]
  },
  {
   "cell_type": "code",
   "execution_count": 39,
   "id": "913ae9a4-d449-41f5-95f3-360f0e19ae6d",
   "metadata": {},
   "outputs": [],
   "source": [
    "cleaned_df = raw_df.copy()\n",
    "cleaned_df.drop('Qui mô công ty', axis=1, inplace=True)\n",
    "cleaned_df.drop('Lương', axis=1, inplace=True)\n",
    "cleaned_df.drop('Kinh nghiệm', axis=1, inplace=True)"
   ]
  },
  {
   "cell_type": "code",
   "execution_count": 40,
   "id": "5c97ef4c-03cc-4f2e-b855-91015856f820",
   "metadata": {},
   "outputs": [
    {
     "data": {
      "text/html": [
       "<div>\n",
       "<style scoped>\n",
       "    .dataframe tbody tr th:only-of-type {\n",
       "        vertical-align: middle;\n",
       "    }\n",
       "\n",
       "    .dataframe tbody tr th {\n",
       "        vertical-align: top;\n",
       "    }\n",
       "\n",
       "    .dataframe thead th {\n",
       "        text-align: right;\n",
       "    }\n",
       "</style>\n",
       "<table border=\"1\" class=\"dataframe\">\n",
       "  <thead>\n",
       "    <tr style=\"text-align: right;\">\n",
       "      <th></th>\n",
       "      <th>Tên công việc</th>\n",
       "      <th>Địa điểm</th>\n",
       "      <th>Tên công ty</th>\n",
       "      <th>Địa chỉ công ty</th>\n",
       "      <th>Người liên hệ</th>\n",
       "      <th>Loại hình hoạt động</th>\n",
       "      <th>Ngày cập nhật</th>\n",
       "      <th>Ngành nghề</th>\n",
       "      <th>Hình thức</th>\n",
       "      <th>Cấp bậc</th>\n",
       "      <th>Hết hạn nộp</th>\n",
       "      <th>Quy mô công ty</th>\n",
       "      <th>Lương tối thiểu (VND)</th>\n",
       "      <th>Lương tối đa (VND)</th>\n",
       "      <th>Kinh nghiệm tối thiểu</th>\n",
       "    </tr>\n",
       "  </thead>\n",
       "  <tbody>\n",
       "    <tr>\n",
       "      <th>1</th>\n",
       "      <td>Kỹ Thuật Bảo Trì</td>\n",
       "      <td>['Bình Dương']</td>\n",
       "      <td>CÔNG TY TNHH LF LOGISTICS (VIỆT NAM)</td>\n",
       "      <td>Lô số 18 L1-2, Đường số 3, Khu công nghiệp Việ...</td>\n",
       "      <td>HR Department</td>\n",
       "      <td>100% vốn nước ngoài</td>\n",
       "      <td>2024-12-09</td>\n",
       "      <td>Cơ khí / Ô tô / Tự động hóa , Điện / Điện tử /...</td>\n",
       "      <td>Nhân viên chính thức</td>\n",
       "      <td>Nhân viên</td>\n",
       "      <td>2024-12-31</td>\n",
       "      <td>Vừa</td>\n",
       "      <td>-1.0</td>\n",
       "      <td>-1.0</td>\n",
       "      <td>1.0</td>\n",
       "    </tr>\n",
       "    <tr>\n",
       "      <th>2</th>\n",
       "      <td>NHÂN VIÊN BẢO TRÌ</td>\n",
       "      <td>['Bình Dương']</td>\n",
       "      <td>CÔNG TY TNHH SẢN XUẤT GREAT LOTUS VIỆT NAM</td>\n",
       "      <td>Số 3 VSIP II-A đường số 26, Khu công nghiệp Vi...</td>\n",
       "      <td>CÔNG TY TNHH SẢN XUẤT GREAT LOTUS VIỆT NAM</td>\n",
       "      <td>100% vốn nước ngoài</td>\n",
       "      <td>2024-12-09</td>\n",
       "      <td>Bảo trì / Sửa chữa</td>\n",
       "      <td>Nhân viên chính thức</td>\n",
       "      <td>Nhân viên</td>\n",
       "      <td>2024-12-09</td>\n",
       "      <td>Vừa</td>\n",
       "      <td>13000000.0</td>\n",
       "      <td>15000000.0</td>\n",
       "      <td>3.0</td>\n",
       "    </tr>\n",
       "    <tr>\n",
       "      <th>3</th>\n",
       "      <td>HR cum Compliance Manager</td>\n",
       "      <td>['Bình Dương']</td>\n",
       "      <td>CTY TNHH S.H VIET NAM</td>\n",
       "      <td>241 Khu phố Hưng Lộc Phường Hưng Đinh, Tp Thuậ...</td>\n",
       "      <td>Phòng Nhân Sự</td>\n",
       "      <td>100% vốn nước ngoài</td>\n",
       "      <td>2024-12-09</td>\n",
       "      <td>Quản lý điều hành , Nhân sự , Dệt may / Da già...</td>\n",
       "      <td>Nhân viên chính thức</td>\n",
       "      <td>Quản lý</td>\n",
       "      <td>2024-12-31</td>\n",
       "      <td>Lớn</td>\n",
       "      <td>-1.0</td>\n",
       "      <td>-1.0</td>\n",
       "      <td>5.0</td>\n",
       "    </tr>\n",
       "    <tr>\n",
       "      <th>5</th>\n",
       "      <td>Giám sát kho</td>\n",
       "      <td>['Bình Dương']</td>\n",
       "      <td>CÔNG TY AVANTI - GROUP</td>\n",
       "      <td>Tầng 18, Tòa nhà Bitexco,Phường Bến Nghé, Quận...</td>\n",
       "      <td>Ms. Hoa</td>\n",
       "      <td>Trách nhiệm hữu hạn</td>\n",
       "      <td>2024-12-09</td>\n",
       "      <td>Vận chuyển / Giao nhận / Kho vận</td>\n",
       "      <td>Nhân viên chính thức</td>\n",
       "      <td>Trưởng nhóm / Giám sát</td>\n",
       "      <td>2025-01-09</td>\n",
       "      <td>Vừa</td>\n",
       "      <td>15000000.0</td>\n",
       "      <td>18000000.0</td>\n",
       "      <td>3.0</td>\n",
       "    </tr>\n",
       "    <tr>\n",
       "      <th>7</th>\n",
       "      <td>NHÂN VIÊN SÁNG TẠO NỘI DUNG (LÀM VIỆC Ở DĨ AN,...</td>\n",
       "      <td>['Bình Dương']</td>\n",
       "      <td>CÔNG TY CỔ PHẦN SẢN XUẤT, THƯƠNG MẠI VÀ DỊCH V...</td>\n",
       "      <td>P26.01 - Tòa nhà TTTM và Căn hộ Xa la - Phường...</td>\n",
       "      <td>P. HCNS</td>\n",
       "      <td>Cổ phần</td>\n",
       "      <td>2024-12-09</td>\n",
       "      <td>Tiếp thị / Marketing , Bán hàng / Kinh doanh ,...</td>\n",
       "      <td>Nhân viên chính thức</td>\n",
       "      <td>Nhân viên</td>\n",
       "      <td>2024-12-31</td>\n",
       "      <td>Vừa</td>\n",
       "      <td>8000000.0</td>\n",
       "      <td>15000000.0</td>\n",
       "      <td>1.0</td>\n",
       "    </tr>\n",
       "  </tbody>\n",
       "</table>\n",
       "</div>"
      ],
      "text/plain": [
       "                                       Tên công việc        Địa điểm  \\\n",
       "1                                   Kỹ Thuật Bảo Trì  ['Bình Dương']   \n",
       "2                                  NHÂN VIÊN BẢO TRÌ  ['Bình Dương']   \n",
       "3                          HR cum Compliance Manager  ['Bình Dương']   \n",
       "5                                       Giám sát kho  ['Bình Dương']   \n",
       "7  NHÂN VIÊN SÁNG TẠO NỘI DUNG (LÀM VIỆC Ở DĨ AN,...  ['Bình Dương']   \n",
       "\n",
       "                                         Tên công ty  \\\n",
       "1               CÔNG TY TNHH LF LOGISTICS (VIỆT NAM)   \n",
       "2         CÔNG TY TNHH SẢN XUẤT GREAT LOTUS VIỆT NAM   \n",
       "3                              CTY TNHH S.H VIET NAM   \n",
       "5                             CÔNG TY AVANTI - GROUP   \n",
       "7  CÔNG TY CỔ PHẦN SẢN XUẤT, THƯƠNG MẠI VÀ DỊCH V...   \n",
       "\n",
       "                                     Địa chỉ công ty  \\\n",
       "1  Lô số 18 L1-2, Đường số 3, Khu công nghiệp Việ...   \n",
       "2  Số 3 VSIP II-A đường số 26, Khu công nghiệp Vi...   \n",
       "3  241 Khu phố Hưng Lộc Phường Hưng Đinh, Tp Thuậ...   \n",
       "5  Tầng 18, Tòa nhà Bitexco,Phường Bến Nghé, Quận...   \n",
       "7  P26.01 - Tòa nhà TTTM và Căn hộ Xa la - Phường...   \n",
       "\n",
       "                                Người liên hệ  Loại hình hoạt động  \\\n",
       "1                               HR Department  100% vốn nước ngoài   \n",
       "2  CÔNG TY TNHH SẢN XUẤT GREAT LOTUS VIỆT NAM  100% vốn nước ngoài   \n",
       "3                               Phòng Nhân Sự  100% vốn nước ngoài   \n",
       "5                                     Ms. Hoa  Trách nhiệm hữu hạn   \n",
       "7                                     P. HCNS              Cổ phần   \n",
       "\n",
       "  Ngày cập nhật                                         Ngành nghề  \\\n",
       "1    2024-12-09  Cơ khí / Ô tô / Tự động hóa , Điện / Điện tử /...   \n",
       "2    2024-12-09                                 Bảo trì / Sửa chữa   \n",
       "3    2024-12-09  Quản lý điều hành , Nhân sự , Dệt may / Da già...   \n",
       "5    2024-12-09                   Vận chuyển / Giao nhận / Kho vận   \n",
       "7    2024-12-09  Tiếp thị / Marketing , Bán hàng / Kinh doanh ,...   \n",
       "\n",
       "              Hình thức                 Cấp bậc Hết hạn nộp Quy mô công ty  \\\n",
       "1  Nhân viên chính thức               Nhân viên  2024-12-31            Vừa   \n",
       "2  Nhân viên chính thức               Nhân viên  2024-12-09            Vừa   \n",
       "3  Nhân viên chính thức                 Quản lý  2024-12-31            Lớn   \n",
       "5  Nhân viên chính thức  Trưởng nhóm / Giám sát  2025-01-09            Vừa   \n",
       "7  Nhân viên chính thức               Nhân viên  2024-12-31            Vừa   \n",
       "\n",
       "   Lương tối thiểu (VND)  Lương tối đa (VND)  Kinh nghiệm tối thiểu  \n",
       "1                   -1.0                -1.0                    1.0  \n",
       "2             13000000.0          15000000.0                    3.0  \n",
       "3                   -1.0                -1.0                    5.0  \n",
       "5             15000000.0          18000000.0                    3.0  \n",
       "7              8000000.0          15000000.0                    1.0  "
      ]
     },
     "execution_count": 40,
     "metadata": {},
     "output_type": "execute_result"
    }
   ],
   "source": [
    "cleaned_df.head()"
   ]
  },
  {
   "cell_type": "markdown",
   "id": "cf1373be-898b-449c-8af1-c634d50ba43a",
   "metadata": {},
   "source": [
    "## Lưu dữ liệu"
   ]
  },
  {
   "cell_type": "code",
   "execution_count": 41,
   "id": "85d04488-a4db-49a8-97e3-1a62ac172c96",
   "metadata": {},
   "outputs": [
    {
     "data": {
      "text/plain": [
       "(11778, 18)"
      ]
     },
     "execution_count": 41,
     "metadata": {},
     "output_type": "execute_result"
    }
   ],
   "source": [
    "raw_df.shape"
   ]
  },
  {
   "cell_type": "code",
   "execution_count": 42,
   "id": "25299798-0be7-401a-9e20-52a12682fa85",
   "metadata": {},
   "outputs": [
    {
     "data": {
      "text/plain": [
       "(11778, 15)"
      ]
     },
     "execution_count": 42,
     "metadata": {},
     "output_type": "execute_result"
    }
   ],
   "source": [
    "cleaned_df.shape"
   ]
  },
  {
   "cell_type": "code",
   "execution_count": 43,
   "id": "4b88a171-748b-4f0a-aa5f-6b548ef8d181",
   "metadata": {},
   "outputs": [],
   "source": [
    "raw_df.to_csv(\"../dataset/jobs_raw_cleaned.csv\")\n",
    "cleaned_df.to_csv(\"../dataset/jobs_cleaned.csv\")"
   ]
  },
  {
   "cell_type": "markdown",
   "id": "e2fbdec3-ac0a-4496-8794-86aedd9e31d5",
   "metadata": {},
   "source": [
    "## Khám phá mối tương quan giữa các dữ liệu"
   ]
  },
  {
   "cell_type": "code",
   "execution_count": 44,
   "id": "3cb4deb4-78d4-4e04-8282-b8851cb798b8",
   "metadata": {},
   "outputs": [
    {
     "name": "stderr",
     "output_type": "stream",
     "text": [
      "/tmp/ipykernel_4820/990611607.py:7: FutureWarning: The default value of numeric_only in DataFrame.corr is deprecated. In a future version, it will default to False. Select only valid columns or specify the value of numeric_only to silence this warning.\n",
      "  correlation_matrix = copy_df.corr()\n"
     ]
    },
    {
     "data": {
      "image/png": "[encoded data removed]",
      "text/plain": [
       "<Figure size 800x600 with 2 Axes>"
      ]
     },
     "metadata": {},
     "output_type": "display_data"
    }
   ],
   "source": [
    "label_encoder = LabelEncoder()\n",
    "\n",
    "copy_df = cleaned_df.copy()\n",
    "for column in cleaned_df.select_dtypes(include=['object']).columns:\n",
    "    copy_df[column] = label_encoder.fit_transform(copy_df[column])\n",
    "\n",
    "correlation_matrix = copy_df.corr()\n",
    "\n",
    "plt.figure(figsize=(8, 6))\n",
    "sns.heatmap(correlation_matrix, annot=True, fmt=\".2f\", cmap='crest_r', square=True)\n",
    "plt.title('Ma trận tương quan giữa các thuộc tính')\n",
    "plt.show()"
   ]
  }
 ],
 "metadata": {
  "kernelspec": {
   "display_name": "Python 3 (ipykernel)",
   "language": "python",
   "name": "python3"
  },
  "language_info": {
   "codemirror_mode": {
    "name": "ipython",
    "version": 3
   },
   "file_extension": ".py",
   "mimetype": "text/x-python",
   "name": "python",
   "nbconvert_exporter": "python",
   "pygments_lexer": "ipython3",
   "version": "3.10.8"
  }
 },
 "nbformat": 4,
 "nbformat_minor": 5
}
